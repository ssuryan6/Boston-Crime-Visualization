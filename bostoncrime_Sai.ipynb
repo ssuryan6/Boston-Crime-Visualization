{
 "cells": [
  {
   "cell_type": "code",
   "execution_count": 96,
   "metadata": {},
   "outputs": [],
   "source": [
    "#pip install folium"
   ]
  },
  {
   "cell_type": "code",
   "execution_count": 2,
   "metadata": {},
   "outputs": [],
   "source": [
    "import folium\n",
    "from folium.plugins import MarkerCluster\n",
    "import pandas as pd\n",
    "import seaborn as sb"
   ]
  },
  {
   "cell_type": "code",
   "execution_count": 3,
   "metadata": {},
   "outputs": [],
   "source": [
    "df=pd.read_excel('/Users/saisudhasuryanarayanan/Desktop/bostoncrimenewdata.xlsx')"
   ]
  },
  {
   "cell_type": "code",
   "execution_count": 4,
   "metadata": {
    "scrolled": false
   },
   "outputs": [
    {
     "data": {
      "text/html": [
       "<div>\n",
       "<style scoped>\n",
       "    .dataframe tbody tr th:only-of-type {\n",
       "        vertical-align: middle;\n",
       "    }\n",
       "\n",
       "    .dataframe tbody tr th {\n",
       "        vertical-align: top;\n",
       "    }\n",
       "\n",
       "    .dataframe thead th {\n",
       "        text-align: right;\n",
       "    }\n",
       "</style>\n",
       "<table border=\"1\" class=\"dataframe\">\n",
       "  <thead>\n",
       "    <tr style=\"text-align: right;\">\n",
       "      <th></th>\n",
       "      <th>INCIDENT_NUMBER</th>\n",
       "      <th>OFFENSE_CODE</th>\n",
       "      <th>OFFENSE_CODE_GROUP</th>\n",
       "      <th>OFFENSE_DESCRIPTION</th>\n",
       "      <th>DISTRICT</th>\n",
       "      <th>DISTRICT_NAME</th>\n",
       "      <th>REPORTING_AREA</th>\n",
       "      <th>SHOOTING</th>\n",
       "      <th>OCCURRED_ON_DATE</th>\n",
       "      <th>Date</th>\n",
       "      <th>...</th>\n",
       "      <th>Lat</th>\n",
       "      <th>Long</th>\n",
       "      <th>Location</th>\n",
       "      <th>Population_in_District_Demographics</th>\n",
       "      <th>Unemployment_Rate_in_District</th>\n",
       "      <th>Average_rent_per_night</th>\n",
       "      <th>Transport _1</th>\n",
       "      <th>Transport _2</th>\n",
       "      <th>Transport _3</th>\n",
       "      <th>Transport _4</th>\n",
       "    </tr>\n",
       "  </thead>\n",
       "  <tbody>\n",
       "    <tr>\n",
       "      <th>0</th>\n",
       "      <td>TESTTEST2</td>\n",
       "      <td>423</td>\n",
       "      <td>ASSAULT - AGGRAVATED</td>\n",
       "      <td>ASSAULT - AGGRAVATED</td>\n",
       "      <td>External</td>\n",
       "      <td>Lexington</td>\n",
       "      <td></td>\n",
       "      <td>0</td>\n",
       "      <td>2019-10-16 00:00:00</td>\n",
       "      <td>2019-10-16</td>\n",
       "      <td>...</td>\n",
       "      <td>NaN</td>\n",
       "      <td>NaN</td>\n",
       "      <td>(0.00000000, 0.00000000)</td>\n",
       "      <td>45158</td>\n",
       "      <td>5.5</td>\n",
       "      <td>60</td>\n",
       "      <td>Car</td>\n",
       "      <td>Public Bus</td>\n",
       "      <td>Subway</td>\n",
       "      <td>Walk</td>\n",
       "    </tr>\n",
       "    <tr>\n",
       "      <th>1</th>\n",
       "      <td>I92102201</td>\n",
       "      <td>3301</td>\n",
       "      <td>VERBAL DISPUTE</td>\n",
       "      <td>VERBAL DISPUTE</td>\n",
       "      <td>E13</td>\n",
       "      <td>Jamaica Plain</td>\n",
       "      <td>583</td>\n",
       "      <td>0</td>\n",
       "      <td>2019-12-20 03:08:00</td>\n",
       "      <td>2019-12-20</td>\n",
       "      <td>...</td>\n",
       "      <td>42.325122</td>\n",
       "      <td>-71.107779</td>\n",
       "      <td>(42.32512200, -71.10777900)</td>\n",
       "      <td>94556</td>\n",
       "      <td>7.0</td>\n",
       "      <td>66</td>\n",
       "      <td>Walk</td>\n",
       "      <td>Public Bus</td>\n",
       "      <td>Subway</td>\n",
       "      <td>Car</td>\n",
       "    </tr>\n",
       "    <tr>\n",
       "      <th>2</th>\n",
       "      <td>I92097173</td>\n",
       "      <td>3115</td>\n",
       "      <td>INVESTIGATE PERSON</td>\n",
       "      <td>INVESTIGATE PERSON</td>\n",
       "      <td>C11</td>\n",
       "      <td>Dorchester</td>\n",
       "      <td>355</td>\n",
       "      <td>0</td>\n",
       "      <td>2019-10-23 00:00:00</td>\n",
       "      <td>2019-10-23</td>\n",
       "      <td>...</td>\n",
       "      <td>42.297555</td>\n",
       "      <td>-71.059709</td>\n",
       "      <td>(42.29755500, -71.05970900)</td>\n",
       "      <td>45158</td>\n",
       "      <td>5.5</td>\n",
       "      <td>60</td>\n",
       "      <td>Car</td>\n",
       "      <td>Public Bus</td>\n",
       "      <td>Subway</td>\n",
       "      <td>Walk</td>\n",
       "    </tr>\n",
       "    <tr>\n",
       "      <th>3</th>\n",
       "      <td>I92094519</td>\n",
       "      <td>3126</td>\n",
       "      <td>WARRANT ARREST - OUTSIDE OF BOSTON WARRANT</td>\n",
       "      <td>WARRANT ARREST - OUTSIDE OF BOSTON WARRANT</td>\n",
       "      <td>D14</td>\n",
       "      <td>Brighton</td>\n",
       "      <td>765</td>\n",
       "      <td>0</td>\n",
       "      <td>2019-11-22 07:50:00</td>\n",
       "      <td>2019-11-22</td>\n",
       "      <td>...</td>\n",
       "      <td>42.355120</td>\n",
       "      <td>-71.162678</td>\n",
       "      <td>(42.35512000, -71.16267800)</td>\n",
       "      <td>35116</td>\n",
       "      <td>6.1</td>\n",
       "      <td>37</td>\n",
       "      <td>Walk</td>\n",
       "      <td>Public Bus</td>\n",
       "      <td>Subway</td>\n",
       "      <td>Car</td>\n",
       "    </tr>\n",
       "    <tr>\n",
       "      <th>4</th>\n",
       "      <td>I92089785</td>\n",
       "      <td>3005</td>\n",
       "      <td>SICK ASSIST</td>\n",
       "      <td>SICK ASSIST</td>\n",
       "      <td>E13</td>\n",
       "      <td>Jamaica Plain</td>\n",
       "      <td>574</td>\n",
       "      <td>0</td>\n",
       "      <td>2019-11-05 18:00:00</td>\n",
       "      <td>2019-11-05</td>\n",
       "      <td>...</td>\n",
       "      <td>42.309718</td>\n",
       "      <td>-71.104294</td>\n",
       "      <td>(42.30971800, -71.10429400)</td>\n",
       "      <td>45158</td>\n",
       "      <td>5.5</td>\n",
       "      <td>60</td>\n",
       "      <td>Walk</td>\n",
       "      <td>Public Bus</td>\n",
       "      <td>Subway</td>\n",
       "      <td>Car</td>\n",
       "    </tr>\n",
       "  </tbody>\n",
       "</table>\n",
       "<p>5 rows × 27 columns</p>\n",
       "</div>"
      ],
      "text/plain": [
       "  INCIDENT_NUMBER  OFFENSE_CODE                          OFFENSE_CODE_GROUP  \\\n",
       "0       TESTTEST2           423                        ASSAULT - AGGRAVATED   \n",
       "1       I92102201          3301                              VERBAL DISPUTE   \n",
       "2       I92097173          3115                          INVESTIGATE PERSON   \n",
       "3       I92094519          3126  WARRANT ARREST - OUTSIDE OF BOSTON WARRANT   \n",
       "4       I92089785          3005                                 SICK ASSIST   \n",
       "\n",
       "                          OFFENSE_DESCRIPTION  DISTRICT  DISTRICT_NAME  \\\n",
       "0                        ASSAULT - AGGRAVATED  External      Lexington   \n",
       "1                              VERBAL DISPUTE       E13  Jamaica Plain   \n",
       "2                          INVESTIGATE PERSON       C11     Dorchester   \n",
       "3  WARRANT ARREST - OUTSIDE OF BOSTON WARRANT       D14       Brighton   \n",
       "4                                 SICK ASSIST       E13  Jamaica Plain   \n",
       "\n",
       "  REPORTING_AREA SHOOTING    OCCURRED_ON_DATE       Date  ...        Lat  \\\n",
       "0                       0 2019-10-16 00:00:00 2019-10-16  ...        NaN   \n",
       "1            583        0 2019-12-20 03:08:00 2019-12-20  ...  42.325122   \n",
       "2            355        0 2019-10-23 00:00:00 2019-10-23  ...  42.297555   \n",
       "3            765        0 2019-11-22 07:50:00 2019-11-22  ...  42.355120   \n",
       "4            574        0 2019-11-05 18:00:00 2019-11-05  ...  42.309718   \n",
       "\n",
       "        Long                     Location Population_in_District_Demographics  \\\n",
       "0        NaN     (0.00000000, 0.00000000)                               45158   \n",
       "1 -71.107779  (42.32512200, -71.10777900)                               94556   \n",
       "2 -71.059709  (42.29755500, -71.05970900)                               45158   \n",
       "3 -71.162678  (42.35512000, -71.16267800)                               35116   \n",
       "4 -71.104294  (42.30971800, -71.10429400)                               45158   \n",
       "\n",
       "   Unemployment_Rate_in_District Average_rent_per_night Transport _1  \\\n",
       "0                            5.5                     60          Car   \n",
       "1                            7.0                     66         Walk   \n",
       "2                            5.5                     60          Car   \n",
       "3                            6.1                     37         Walk   \n",
       "4                            5.5                     60         Walk   \n",
       "\n",
       "   Transport _2  Transport _3 Transport _4  \n",
       "0    Public Bus        Subway         Walk  \n",
       "1    Public Bus        Subway          Car  \n",
       "2    Public Bus        Subway         Walk  \n",
       "3    Public Bus        Subway          Car  \n",
       "4    Public Bus        Subway          Car  \n",
       "\n",
       "[5 rows x 27 columns]"
      ]
     },
     "execution_count": 4,
     "metadata": {},
     "output_type": "execute_result"
    }
   ],
   "source": [
    "df.head(5)"
   ]
  },
  {
   "cell_type": "code",
   "execution_count": 5,
   "metadata": {},
   "outputs": [
    {
     "name": "stdout",
     "output_type": "stream",
     "text": [
      "        Average_rent_per_night  Unemployment_Rate_in_District\n",
      "0                           60                            5.5\n",
      "1                           66                            7.0\n",
      "2                           60                            5.5\n",
      "3                           37                            6.1\n",
      "4                           60                            5.5\n",
      "5                           66                            7.0\n",
      "6                           60                            5.5\n",
      "7                           60                            5.5\n",
      "8                           37                            6.1\n",
      "9                           37                            6.1\n",
      "10                          53                            2.8\n",
      "11                          72                            5.5\n",
      "12                          66                            7.0\n",
      "13                          61                            4.0\n",
      "14                          72                            5.5\n",
      "15                          72                            5.5\n",
      "16                          72                            5.5\n",
      "17                          37                            6.1\n",
      "18                          61                            4.0\n",
      "19                          72                            5.5\n",
      "20                          72                            5.5\n",
      "21                          66                            7.0\n",
      "22                          72                            5.5\n",
      "23                          72                            5.5\n",
      "24                          61                            4.0\n",
      "25                          72                            5.5\n",
      "26                          72                            5.5\n",
      "27                          60                            5.5\n",
      "28                          37                            6.1\n",
      "29                          37                            6.1\n",
      "...                        ...                            ...\n",
      "477582                      37                            6.1\n",
      "477583                      37                            6.1\n",
      "477584                      61                            4.0\n",
      "477585                      61                            4.0\n",
      "477586                      61                            4.0\n",
      "477587                      60                            5.5\n",
      "477588                      60                            5.5\n",
      "477589                      66                            7.0\n",
      "477590                      72                            5.5\n",
      "477591                      72                            5.5\n",
      "477592                      72                            5.5\n",
      "477593                      37                            7.0\n",
      "477594                      61                            4.0\n",
      "477595                      61                            4.0\n",
      "477596                      61                            4.0\n",
      "477597                      66                            7.0\n",
      "477598                      66                            7.0\n",
      "477599                      66                            7.0\n",
      "477600                      61                            4.0\n",
      "477601                      66                            7.0\n",
      "477602                      66                            7.0\n",
      "477603                      61                            4.0\n",
      "477604                      37                            6.1\n",
      "477605                      66                            7.0\n",
      "477606                      61                            4.0\n",
      "477607                      61                            4.0\n",
      "477608                      66                            7.0\n",
      "477609                      66                            7.0\n",
      "477610                      66                            7.0\n",
      "477611                      61                            4.0\n",
      "\n",
      "[477612 rows x 2 columns]\n"
     ]
    }
   ],
   "source": [
    "dff=pd.DataFrame(df,columns=['Average_rent_per_night','Unemployment_Rate_in_District'])\n",
    "\n",
    "print(dff)\n"
   ]
  },
  {
   "cell_type": "code",
   "execution_count": 7,
   "metadata": {},
   "outputs": [
    {
     "ename": "NameError",
     "evalue": "name 'plot' is not defined",
     "output_type": "error",
     "traceback": [
      "\u001b[0;31m---------------------------------------------------------------------------\u001b[0m",
      "\u001b[0;31mNameError\u001b[0m                                 Traceback (most recent call last)",
      "\u001b[0;32m<ipython-input-7-84cd2c9fdfc3>\u001b[0m in \u001b[0;36m<module>\u001b[0;34m\u001b[0m\n\u001b[0;32m----> 1\u001b[0;31m \u001b[0mm\u001b[0m\u001b[0;34m=\u001b[0m\u001b[0mplot\u001b[0m\u001b[0;34m.\u001b[0m\u001b[0mscatter\u001b[0m\u001b[0;34m(\u001b[0m\u001b[0mdf\u001b[0m\u001b[0;34m[\u001b[0m\u001b[0;34m'Average_rent_per_night'\u001b[0m\u001b[0;34m]\u001b[0m\u001b[0;34m,\u001b[0m\u001b[0mdf\u001b[0m\u001b[0;34m[\u001b[0m\u001b[0;34m'Unemployment_Rate_in_District'\u001b[0m\u001b[0;34m]\u001b[0m\u001b[0;34m)\u001b[0m\u001b[0;34m\u001b[0m\u001b[0;34m\u001b[0m\u001b[0m\n\u001b[0m\u001b[1;32m      2\u001b[0m \u001b[0mprint\u001b[0m\u001b[0;34m(\u001b[0m\u001b[0mm\u001b[0m\u001b[0;34m)\u001b[0m\u001b[0;34m\u001b[0m\u001b[0;34m\u001b[0m\u001b[0m\n",
      "\u001b[0;31mNameError\u001b[0m: name 'plot' is not defined"
     ]
    }
   ],
   "source": [
    "m=plot.scatter(df['Average_rent_per_night'],df['Unemployment_Rate_in_District'])\n",
    "print(m)"
   ]
  },
  {
   "cell_type": "code",
   "execution_count": 8,
   "metadata": {},
   "outputs": [
    {
     "data": {
      "text/html": [
       "<div>\n",
       "<style scoped>\n",
       "    .dataframe tbody tr th:only-of-type {\n",
       "        vertical-align: middle;\n",
       "    }\n",
       "\n",
       "    .dataframe tbody tr th {\n",
       "        vertical-align: top;\n",
       "    }\n",
       "\n",
       "    .dataframe thead th {\n",
       "        text-align: right;\n",
       "    }\n",
       "</style>\n",
       "<table border=\"1\" class=\"dataframe\">\n",
       "  <thead>\n",
       "    <tr style=\"text-align: right;\">\n",
       "      <th></th>\n",
       "      <th>OFFENSE_CODE</th>\n",
       "      <th>YEAR</th>\n",
       "      <th>MONTH</th>\n",
       "      <th>HOUR</th>\n",
       "      <th>Lat</th>\n",
       "      <th>Long</th>\n",
       "      <th>Population_in_District_Demographics</th>\n",
       "      <th>Unemployment_Rate_in_District</th>\n",
       "      <th>Average_rent_per_night</th>\n",
       "    </tr>\n",
       "  </thead>\n",
       "  <tbody>\n",
       "    <tr>\n",
       "      <th>count</th>\n",
       "      <td>477612.000000</td>\n",
       "      <td>477612.000000</td>\n",
       "      <td>477612.000000</td>\n",
       "      <td>477612.000000</td>\n",
       "      <td>449404.000000</td>\n",
       "      <td>449404.000000</td>\n",
       "      <td>477612.000000</td>\n",
       "      <td>477612.000000</td>\n",
       "      <td>477612.000000</td>\n",
       "    </tr>\n",
       "    <tr>\n",
       "      <th>mean</th>\n",
       "      <td>2332.732050</td>\n",
       "      <td>2017.349537</td>\n",
       "      <td>6.628868</td>\n",
       "      <td>13.093991</td>\n",
       "      <td>42.232518</td>\n",
       "      <td>-70.938406</td>\n",
       "      <td>57734.539919</td>\n",
       "      <td>5.673234</td>\n",
       "      <td>58.980373</td>\n",
       "    </tr>\n",
       "    <tr>\n",
       "      <th>std</th>\n",
       "      <td>1182.247929</td>\n",
       "      <td>1.433603</td>\n",
       "      <td>3.423139</td>\n",
       "      <td>6.324785</td>\n",
       "      <td>1.966808</td>\n",
       "      <td>3.181605</td>\n",
       "      <td>27521.096445</td>\n",
       "      <td>1.260159</td>\n",
       "      <td>10.929280</td>\n",
       "    </tr>\n",
       "    <tr>\n",
       "      <th>min</th>\n",
       "      <td>111.000000</td>\n",
       "      <td>2015.000000</td>\n",
       "      <td>1.000000</td>\n",
       "      <td>0.000000</td>\n",
       "      <td>-1.000000</td>\n",
       "      <td>-71.244055</td>\n",
       "      <td>17208.000000</td>\n",
       "      <td>2.800000</td>\n",
       "      <td>37.000000</td>\n",
       "    </tr>\n",
       "    <tr>\n",
       "      <th>25%</th>\n",
       "      <td>1102.000000</td>\n",
       "      <td>2016.000000</td>\n",
       "      <td>4.000000</td>\n",
       "      <td>9.000000</td>\n",
       "      <td>42.297027</td>\n",
       "      <td>-71.097398</td>\n",
       "      <td>38206.000000</td>\n",
       "      <td>5.500000</td>\n",
       "      <td>60.000000</td>\n",
       "    </tr>\n",
       "    <tr>\n",
       "      <th>50%</th>\n",
       "      <td>3005.000000</td>\n",
       "      <td>2017.000000</td>\n",
       "      <td>7.000000</td>\n",
       "      <td>14.000000</td>\n",
       "      <td>42.325475</td>\n",
       "      <td>-71.077706</td>\n",
       "      <td>43436.000000</td>\n",
       "      <td>6.100000</td>\n",
       "      <td>61.000000</td>\n",
       "    </tr>\n",
       "    <tr>\n",
       "      <th>75%</th>\n",
       "      <td>3201.000000</td>\n",
       "      <td>2019.000000</td>\n",
       "      <td>10.000000</td>\n",
       "      <td>18.000000</td>\n",
       "      <td>42.348406</td>\n",
       "      <td>-71.062563</td>\n",
       "      <td>94556.000000</td>\n",
       "      <td>7.000000</td>\n",
       "      <td>66.000000</td>\n",
       "    </tr>\n",
       "    <tr>\n",
       "      <th>max</th>\n",
       "      <td>3831.000000</td>\n",
       "      <td>2020.000000</td>\n",
       "      <td>12.000000</td>\n",
       "      <td>23.000000</td>\n",
       "      <td>42.449840</td>\n",
       "      <td>0.000000</td>\n",
       "      <td>94556.000000</td>\n",
       "      <td>7.000000</td>\n",
       "      <td>72.000000</td>\n",
       "    </tr>\n",
       "  </tbody>\n",
       "</table>\n",
       "</div>"
      ],
      "text/plain": [
       "        OFFENSE_CODE           YEAR          MONTH           HOUR  \\\n",
       "count  477612.000000  477612.000000  477612.000000  477612.000000   \n",
       "mean     2332.732050    2017.349537       6.628868      13.093991   \n",
       "std      1182.247929       1.433603       3.423139       6.324785   \n",
       "min       111.000000    2015.000000       1.000000       0.000000   \n",
       "25%      1102.000000    2016.000000       4.000000       9.000000   \n",
       "50%      3005.000000    2017.000000       7.000000      14.000000   \n",
       "75%      3201.000000    2019.000000      10.000000      18.000000   \n",
       "max      3831.000000    2020.000000      12.000000      23.000000   \n",
       "\n",
       "                 Lat           Long  Population_in_District_Demographics  \\\n",
       "count  449404.000000  449404.000000                        477612.000000   \n",
       "mean       42.232518     -70.938406                         57734.539919   \n",
       "std         1.966808       3.181605                         27521.096445   \n",
       "min        -1.000000     -71.244055                         17208.000000   \n",
       "25%        42.297027     -71.097398                         38206.000000   \n",
       "50%        42.325475     -71.077706                         43436.000000   \n",
       "75%        42.348406     -71.062563                         94556.000000   \n",
       "max        42.449840       0.000000                         94556.000000   \n",
       "\n",
       "       Unemployment_Rate_in_District  Average_rent_per_night  \n",
       "count                  477612.000000           477612.000000  \n",
       "mean                        5.673234               58.980373  \n",
       "std                         1.260159               10.929280  \n",
       "min                         2.800000               37.000000  \n",
       "25%                         5.500000               60.000000  \n",
       "50%                         6.100000               61.000000  \n",
       "75%                         7.000000               66.000000  \n",
       "max                         7.000000               72.000000  "
      ]
     },
     "execution_count": 8,
     "metadata": {},
     "output_type": "execute_result"
    }
   ],
   "source": [
    "#Statistical Details\n",
    "df.describe()"
   ]
  },
  {
   "cell_type": "code",
   "execution_count": 9,
   "metadata": {},
   "outputs": [
    {
     "name": "stdout",
     "output_type": "stream",
     "text": [
      "<class 'pandas.core.frame.DataFrame'>\n",
      "RangeIndex: 477612 entries, 0 to 477611\n",
      "Data columns (total 27 columns):\n",
      "INCIDENT_NUMBER                        477612 non-null object\n",
      "OFFENSE_CODE                           477612 non-null int64\n",
      "OFFENSE_CODE_GROUP                     477612 non-null object\n",
      "OFFENSE_DESCRIPTION                    477612 non-null object\n",
      "DISTRICT                               477612 non-null object\n",
      "DISTRICT_NAME                          477612 non-null object\n",
      "REPORTING_AREA                         477612 non-null object\n",
      "SHOOTING                               52519 non-null object\n",
      "OCCURRED_ON_DATE                       477612 non-null datetime64[ns]\n",
      "Date                                   477612 non-null datetime64[ns]\n",
      "Time                                   477612 non-null object\n",
      "YEAR                                   477612 non-null int64\n",
      "MONTH                                  477612 non-null int64\n",
      "DAY_OF_WEEK                            477612 non-null object\n",
      "HOUR                                   477612 non-null int64\n",
      "UCR_PART                               426729 non-null object\n",
      "STREET                                 460683 non-null object\n",
      "Lat                                    449404 non-null float64\n",
      "Long                                   449404 non-null float64\n",
      "Location                               477612 non-null object\n",
      "Population_in_District_Demographics    477612 non-null int64\n",
      "Unemployment_Rate_in_District          477612 non-null float64\n",
      "Average_rent_per_night                 477612 non-null int64\n",
      "Transport _1                           477612 non-null object\n",
      "Transport _2                           477612 non-null object\n",
      "Transport _3                           477612 non-null object\n",
      "Transport _4                           477612 non-null object\n",
      "dtypes: datetime64[ns](2), float64(3), int64(6), object(16)\n",
      "memory usage: 98.4+ MB\n"
     ]
    }
   ],
   "source": [
    "#concise summary of the dataframe\n",
    "df.info()"
   ]
  },
  {
   "cell_type": "code",
   "execution_count": 10,
   "metadata": {
    "scrolled": false
   },
   "outputs": [
    {
     "name": "stdout",
     "output_type": "stream",
     "text": [
      "                                  Location  DISTRICT\n",
      "DISTRICT_NAME                                       \n",
      "Brighton       (42.35512000, -71.16267800)       D14\n",
      "Charlestown    (42.37380000, -71.06290300)       A15\n",
      "Dorchester     (42.29755500, -71.05970900)       C11\n",
      "Downtown       (42.36769032, -71.06586347)        A1\n",
      "East Boston    (42.37100500, -71.03897600)        A7\n",
      "Hyde Park      (42.27161600, -71.11807400)       E18\n",
      "Jamaica Plain  (42.32512200, -71.10777900)       E13\n",
      "Lexington         (0.00000000, 0.00000000)  External\n",
      "Mattapan       (42.27796370, -71.09246318)        B3\n",
      "Roxbury        (42.30433900, -71.08477800)        B2\n",
      "South Boston   (42.35275600, -71.04748100)        C6\n",
      "South End      (42.34947586, -71.07640150)        D4\n",
      "West Roxbury   (42.28709300, -71.14822100)        E5\n"
     ]
    }
   ],
   "source": [
    "#Mapping districts with locations\n",
    "districts=df.groupby('DISTRICT_NAME').first()\n",
    "print(districts.to_string(columns=['Location', 'DISTRICT']))\n",
    "#print(districts)"
   ]
  },
  {
   "cell_type": "code",
   "execution_count": 11,
   "metadata": {},
   "outputs": [],
   "source": [
    "# co-ordinates of Boston\n",
    "boston_coordinates=(42.3601,-71.0589)"
   ]
  },
  {
   "cell_type": "code",
   "execution_count": 12,
   "metadata": {},
   "outputs": [],
   "source": [
    "map = folium.Map(location=boston_coordinates, zoom_start=11)"
   ]
  },
  {
   "cell_type": "code",
   "execution_count": 13,
   "metadata": {},
   "outputs": [],
   "source": [
    "#co-ordinates of all the districts\n",
    "Brighton=(42.3464, -71.1627)        \n",
    "Charlestown=(42.3782, -71.0602)          \n",
    "Dorchester=(42.3016, -71.0676)           \n",
    "Downtown=(42.3557, -71.0572)               \n",
    "East_Boston=(42.3702, -71.0389)           \n",
    "Hyde_Park=(42.2565, -71.1241)           \n",
    "Jamaica_Plain=(42.3097, -71.1151)                \n",
    "Lexington_external=(42.4473, -71.2245)  \n",
    "Mattapan=(42.2771, -71.0914)              \n",
    "Roxbury=(42.3152, -71.0914)                  \n",
    "South_Boston=(42.3381, -71.0476)           \n",
    "South_End=(42.3388, -71.0765)                \n",
    "West_Roxbury=(42.2798, -71.1627)        "
   ]
  },
  {
   "cell_type": "code",
   "execution_count": 14,
   "metadata": {},
   "outputs": [
    {
     "data": {
      "text/plain": [
       "<folium.map.Marker at 0x7fbc0155a860>"
      ]
     },
     "execution_count": 14,
     "metadata": {},
     "output_type": "execute_result"
    }
   ],
   "source": [
    "#Markers to display each district\n",
    "folium.Marker(Brighton, popup = 'Brighton').add_to(map)\n",
    "folium.Marker(Charlestown, popup = 'Charlestown').add_to(map)\n",
    "folium.Marker(Dorchester, popup = 'Dorchester').add_to(map)\n",
    "folium.Marker(Downtown, popup = 'Downtown').add_to(map)\n",
    "folium.Marker(East_Boston, popup = 'East Boston').add_to(map)\n",
    "folium.Marker(Hyde_Park, popup = 'Hyde Park').add_to(map)\n",
    "folium.Marker(Jamaica_Plain, popup = 'Jamaica Plain').add_to(map)\n",
    "folium.Marker(Lexington_external, popup = 'Lexington').add_to(map)\n",
    "folium.Marker(Mattapan, popup = 'Mattapan').add_to(map)\n",
    "folium.Marker(Roxbury, popup = 'Roxbury').add_to(map)\n",
    "folium.Marker(South_Boston, popup = 'South Boston').add_to(map)\n",
    "folium.Marker(South_End, popup = 'South End').add_to(map)\n",
    "folium.Marker(West_Roxbury, popup = 'West Roxbury').add_to(map)"
   ]
  },
  {
   "cell_type": "code",
   "execution_count": 15,
   "metadata": {},
   "outputs": [
    {
     "data": {
      "text/html": [
       "<div style=\"width:100%;\"><div style=\"position:relative;width:100%;height:0;padding-bottom:60%;\"><span style=\"color:#565656\">Make this Notebook Trusted to load map: File -> Trust Notebook</span><iframe src=\"about:blank\" style=\"position:absolute;width:100%;height:100%;left:0;top:0;border:none !important;\" data-html=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 onload=\"this.contentDocument.open();this.contentDocument.write(atob(this.getAttribute('data-html')));this.contentDocument.close();\" allowfullscreen webkitallowfullscreen mozallowfullscreen></iframe></div></div>"
      ],
      "text/plain": [
       "<folium.folium.Map at 0x7fbc0155aa90>"
      ]
     },
     "metadata": {},
     "output_type": "display_data"
    }
   ],
   "source": [
    "#displaying districts in boston \n",
    "display(map)"
   ]
  },
  {
   "cell_type": "code",
   "execution_count": 16,
   "metadata": {},
   "outputs": [],
   "source": [
    "#plotting all the districts with unemployment rate\n",
    "unempmap = folium.Map(location=boston_coordinates, zoom_start=11)\n"
   ]
  },
  {
   "cell_type": "code",
   "execution_count": 17,
   "metadata": {},
   "outputs": [
    {
     "data": {
      "text/html": [
       "<div style=\"width:100%;\"><div style=\"position:relative;width:100%;height:0;padding-bottom:60%;\"><span style=\"color:#565656\">Make this Notebook Trusted to load map: File -> Trust Notebook</span><iframe src=\"about:blank\" style=\"position:absolute;width:100%;height:100%;left:0;top:0;border:none !important;\" data-html=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 onload=\"this.contentDocument.open();this.contentDocument.write(atob(this.getAttribute('data-html')));this.contentDocument.close();\" allowfullscreen webkitallowfullscreen mozallowfullscreen></iframe></div></div>"
      ],
      "text/plain": [
       "<folium.folium.Map at 0x7fbc00b8eb38>"
      ]
     },
     "metadata": {},
     "output_type": "display_data"
    }
   ],
   "source": [
    "folium.Marker(Brighton, popup = 'Brighton-unemployment rate 6.1',icon=folium.Icon(color='orange',icon='glyphicon glyphicon-resize-vertical')).add_to(unempmap)\n",
    "folium.Marker(Charlestown, popup = 'Charlestown',icon=folium.Icon(color='orange',icon='glyphicon glyphicon-resize-vertical')).add_to(unempmap)\n",
    "folium.Marker(Dorchester, popup = 'Dorchester',icon=folium.Icon(color='darkpurple',icon='glyphicon glyphicon-arrow-down')).add_to(unempmap)\n",
    "folium.Marker(Downtown, popup = 'Downtown',icon=folium.Icon(color='darkpurple',icon='glyphicon glyphicon-arrow-down')).add_to(unempmap)\n",
    "folium.Marker(East_Boston, popup = 'East Boston',icon=folium.Icon(color='darkpurple',icon='glyphicon glyphicon-arrow-down')).add_to(unempmap)\n",
    "folium.Marker(Hyde_Park, popup = 'Hyde Park-unemployment rate 7.0',icon=folium.Icon(color='darkred',icon='glyphicon glyphicon-arrow-up')).add_to(unempmap)\n",
    "folium.Marker(Jamaica_Plain, popup = 'Jamaica Plain',icon=folium.Icon(color='darkred',icon='glyphicon glyphicon-arrow-up')).add_to(unempmap)\n",
    "folium.Marker(Lexington_external, popup = 'Lexington-unemployment rate 5.5',icon=folium.Icon(color='darkpurple',icon='glyphicon glyphicon-arrow-down')).add_to(unempmap)\n",
    "folium.Marker(Mattapan, popup = 'Mattapan',icon=folium.Icon(color='orange',icon='glyphicon glyphicon-resize-vertical')).add_to(unempmap)\n",
    "folium.Marker(Roxbury, popup = 'Roxbury',icon=folium.Icon(color='darkpurple',icon='glyphicon glyphicon-arrow-down')).add_to(unempmap)\n",
    "folium.Marker(South_Boston, popup = 'South Boston',icon=folium.Icon(color='darkpurple',icon='glyphicon glyphicon-arrow-down')).add_to(unempmap)\n",
    "folium.Marker(South_End, popup = 'South End',icon=folium.Icon(color='darkpurple',icon='glyphicon glyphicon-arrow-down')).add_to(unempmap)\n",
    "folium.Marker(West_Roxbury, popup = 'West Roxbury',icon=folium.Icon(color='darkpurple',icon='glyphicon glyphicon-arrow-down')).add_to(unempmap)\n",
    "display(unempmap)"
   ]
  },
  {
   "cell_type": "code",
   "execution_count": 20,
   "metadata": {},
   "outputs": [
    {
     "name": "stdout",
     "output_type": "stream",
     "text": [
      "               Population_in_District_Demographics  Average_rent_per_night\n",
      "DISTRICT_NAME                                                             \n",
      "Brighton                                     35116                      37\n",
      "Charlestown                                  35116                      37\n",
      "Dorchester                                   45158                      60\n",
      "Downtown                                     45158                      60\n",
      "East Boston                                  43436                      72\n",
      "Hyde Park                                    94556                      66\n",
      "Jamaica Plain                                94556                      66\n",
      "Lexington                                    45158                      60\n",
      "Mattapan                                     35116                      37\n",
      "Roxbury                                      43436                      72\n",
      "South Boston                                 45158                      60\n",
      "South End                                    45158                      60\n",
      "West Roxbury                                 43436                      72\n"
     ]
    }
   ],
   "source": [
    "print(districts.to_string(columns=['Population_in_District_Demographics','Average_rent_per_night']))"
   ]
  },
  {
   "cell_type": "code",
   "execution_count": 16,
   "metadata": {
    "slideshow": {
     "slide_type": "slide"
    }
   },
   "outputs": [
    {
     "name": "stdout",
     "output_type": "stream",
     "text": [
      "Roxbury          76271\n",
      "Dorchester       64494\n",
      "South End        61249\n",
      "Mattapan         54598\n",
      "Downtown         53002\n",
      "South Boston     34547\n",
      "Brighton         30283\n",
      "Hyde Park        26744\n",
      "Jamaica Plain    26514\n",
      "West Roxbury     20412\n",
      "East Boston      19422\n",
      "Charlestown       9974\n",
      "Lexington          102\n",
      "Name: DISTRICT_NAME, dtype: int64\n"
     ]
    }
   ],
   "source": [
    "#districts with high crime\n",
    "count_districts=print(df['DISTRICT_NAME'].value_counts())"
   ]
  },
  {
   "cell_type": "code",
   "execution_count": 17,
   "metadata": {},
   "outputs": [
    {
     "name": "stdout",
     "output_type": "stream",
     "text": [
      "AxesSubplot(0.125,0.125;0.775x0.755)\n"
     ]
    },
    {
     "data": {
      "image/png": "[encoded data removed]",
      "text/plain": [
       "<Figure size 432x288 with 1 Axes>"
      ]
     },
     "metadata": {
      "needs_background": "light"
     },
     "output_type": "display_data"
    }
   ],
   "source": [
    "#plotting all districts\n",
    "plot=df.DISTRICT_NAME.value_counts().iloc[:10].sort_values().plot(kind= 'bar',color='red')\n",
    "\n",
    "print(plot)"
   ]
  },
  {
   "cell_type": "code",
   "execution_count": 18,
   "metadata": {},
   "outputs": [
    {
     "data": {
      "text/html": [
       "<div style=\"width:100%;\"><div style=\"position:relative;width:100%;height:0;padding-bottom:60%;\"><span style=\"color:#565656\">Make this Notebook Trusted to load map: File -> Trust Notebook</span><iframe src=\"about:blank\" style=\"position:absolute;width:100%;height:100%;left:0;top:0;border:none !important;\" data-html=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 onload=\"this.contentDocument.open();this.contentDocument.write(atob(this.getAttribute('data-html')));this.contentDocument.close();\" allowfullscreen webkitallowfullscreen mozallowfullscreen></iframe></div></div>"
      ],
      "text/plain": [
       "<folium.folium.Map at 0x7fe1fff16e48>"
      ]
     },
     "metadata": {},
     "output_type": "display_data"
    }
   ],
   "source": [
    "#plotting the 5 high crime districts using map\n",
    "crimemap = folium.Map(location=boston_coordinates, zoom_start=11)\n",
    "folium.Marker(Dorchester, popup = 'Dorchester',icon=folium.Icon(color='red',icon='glyphicon glyphicon-flash')).add_to(crimemap)\n",
    "folium.Marker(Downtown, popup = 'Downtown',icon=folium.Icon(color='red',icon='glyphicon glyphicon-flash')).add_to(crimemap)\n",
    "folium.Marker(Mattapan, popup = 'Mattapan',icon=folium.Icon(color='red',icon='glyphicon glyphicon-flash')).add_to(crimemap)\n",
    "folium.Marker(Roxbury, popup = 'Roxbury',icon=folium.Icon(color='red',icon='glyphicon glyphicon-flash')).add_to(crimemap)\n",
    "folium.Marker(South_End, popup = 'South End',icon=folium.Icon(color='red',icon='glyphicon glyphicon-flash')).add_to(crimemap)\n",
    "display(crimemap)"
   ]
  },
  {
   "cell_type": "code",
   "execution_count": 19,
   "metadata": {},
   "outputs": [
    {
     "name": "stdout",
     "output_type": "stream",
     "text": [
      "YEAR  DISTRICT_NAME\n",
      "2015  Brighton          3291\n",
      "      Charlestown       1038\n",
      "      Dorchester        7366\n",
      "      Downtown          6032\n",
      "      East Boston       2429\n",
      "      Hyde Park         2756\n",
      "      Jamaica Plain     2827\n",
      "      Mattapan          5659\n",
      "      Roxbury           8756\n",
      "      South Boston      3945\n",
      "      South End         7304\n",
      "      West Roxbury      2194\n",
      "2016  Brighton          6318\n",
      "      Charlestown       2011\n",
      "      Dorchester       13823\n",
      "      Downtown         10878\n",
      "      East Boston       4096\n",
      "      Hyde Park         5270\n",
      "      Jamaica Plain     5657\n",
      "      Mattapan         11243\n",
      "      Roxbury          15845\n",
      "      South Boston      6954\n",
      "      South End        13073\n",
      "      West Roxbury      4262\n",
      "2017  Brighton          6541\n",
      "      Charlestown       2197\n",
      "      Dorchester       13893\n",
      "      Downtown         11358\n",
      "      East Boston       4119\n",
      "      Hyde Park         5737\n",
      "                       ...  \n",
      "2018  Roxbury          15658\n",
      "      South Boston      7554\n",
      "      South End        12526\n",
      "      West Roxbury      4141\n",
      "2019  Brighton          6200\n",
      "      Charlestown       2049\n",
      "      Dorchester       12692\n",
      "      Downtown         11265\n",
      "      East Boston       3828\n",
      "      Hyde Park         5859\n",
      "      Jamaica Plain     5470\n",
      "      Lexington           53\n",
      "      Mattapan         11323\n",
      "      Roxbury          15737\n",
      "      South Boston      7060\n",
      "      South End        12535\n",
      "      West Roxbury      4327\n",
      "2020  Brighton          1720\n",
      "      Charlestown        539\n",
      "      Dorchester        3602\n",
      "      Downtown          2456\n",
      "      East Boston       1124\n",
      "      Hyde Park         1569\n",
      "      Jamaica Plain     1539\n",
      "      Lexington           49\n",
      "      Mattapan          3088\n",
      "      Roxbury           4297\n",
      "      South Boston      1671\n",
      "      South End         3040\n",
      "      West Roxbury      1267\n",
      "Name: OFFENSE_CODE_GROUP, Length: 74, dtype: int64\n"
     ]
    }
   ],
   "source": [
    "#Mapping districts with crime count in each year\n",
    "#count_districts=print(df['OFFENSE_CODE_GROUP'].value_counts())\n",
    "crimecount=df.groupby([\"YEAR\",\"DISTRICT_NAME\"])[\"OFFENSE_CODE_GROUP\"].count()\n",
    "print(crimecount)\n",
    "#print(crimecount.to_string(columns=['DISTRICT_NAME']))"
   ]
  },
  {
   "cell_type": "code",
   "execution_count": 20,
   "metadata": {},
   "outputs": [
    {
     "data": {
      "text/plain": [
       "INCIDENT_NUMBER                             0\n",
       "OFFENSE_CODE                                0\n",
       "OFFENSE_CODE_GROUP                          0\n",
       "OFFENSE_DESCRIPTION                         0\n",
       "DISTRICT                                    0\n",
       "DISTRICT_NAME                               0\n",
       "REPORTING_AREA                              0\n",
       "SHOOTING                               425093\n",
       "OCCURRED_ON_DATE                            0\n",
       "Date                                        0\n",
       "Time                                        0\n",
       "YEAR                                        0\n",
       "MONTH                                       0\n",
       "DAY_OF_WEEK                                 0\n",
       "HOUR                                        0\n",
       "UCR_PART                                50883\n",
       "STREET                                  16929\n",
       "Lat                                     28208\n",
       "Long                                    28208\n",
       "Location                                    0\n",
       "Population_in_District_Demographics         0\n",
       "Unemployment_Rate_in_District               0\n",
       "Average_rent_per_night                      0\n",
       "Transport _1                                0\n",
       "Transport _2                                0\n",
       "Transport _3                                0\n",
       "Transport _4                                0\n",
       "dtype: int64"
      ]
     },
     "execution_count": 20,
     "metadata": {},
     "output_type": "execute_result"
    }
   ],
   "source": [
    "#count of missing values in each column\n",
    "df.isnull().sum()"
   ]
  },
  {
   "cell_type": "code",
   "execution_count": 21,
   "metadata": {},
   "outputs": [
    {
     "data": {
      "text/html": [
       "<div>\n",
       "<style scoped>\n",
       "    .dataframe tbody tr th:only-of-type {\n",
       "        vertical-align: middle;\n",
       "    }\n",
       "\n",
       "    .dataframe tbody tr th {\n",
       "        vertical-align: top;\n",
       "    }\n",
       "\n",
       "    .dataframe thead th {\n",
       "        text-align: right;\n",
       "    }\n",
       "</style>\n",
       "<table border=\"1\" class=\"dataframe\">\n",
       "  <thead>\n",
       "    <tr style=\"text-align: right;\">\n",
       "      <th></th>\n",
       "      <th>INCIDENT_NUMBER</th>\n",
       "      <th>OFFENSE_CODE</th>\n",
       "      <th>OFFENSE_CODE_GROUP</th>\n",
       "      <th>OFFENSE_DESCRIPTION</th>\n",
       "      <th>DISTRICT</th>\n",
       "      <th>DISTRICT_NAME</th>\n",
       "      <th>REPORTING_AREA</th>\n",
       "      <th>OCCURRED_ON_DATE</th>\n",
       "      <th>Date</th>\n",
       "      <th>Time</th>\n",
       "      <th>...</th>\n",
       "      <th>DAY_OF_WEEK</th>\n",
       "      <th>HOUR</th>\n",
       "      <th>Location</th>\n",
       "      <th>Population_in_District_Demographics</th>\n",
       "      <th>Unemployment_Rate_in_District</th>\n",
       "      <th>Average_rent_per_night</th>\n",
       "      <th>Transport _1</th>\n",
       "      <th>Transport _2</th>\n",
       "      <th>Transport _3</th>\n",
       "      <th>Transport _4</th>\n",
       "    </tr>\n",
       "  </thead>\n",
       "  <tbody>\n",
       "    <tr>\n",
       "      <th>0</th>\n",
       "      <td>TESTTEST2</td>\n",
       "      <td>423</td>\n",
       "      <td>ASSAULT - AGGRAVATED</td>\n",
       "      <td>ASSAULT - AGGRAVATED</td>\n",
       "      <td>External</td>\n",
       "      <td>Lexington</td>\n",
       "      <td></td>\n",
       "      <td>2019-10-16 00:00:00</td>\n",
       "      <td>2019-10-16</td>\n",
       "      <td>00:00:00</td>\n",
       "      <td>...</td>\n",
       "      <td>Wednesday</td>\n",
       "      <td>0</td>\n",
       "      <td>(0.00000000, 0.00000000)</td>\n",
       "      <td>45158</td>\n",
       "      <td>5.5</td>\n",
       "      <td>60</td>\n",
       "      <td>Car</td>\n",
       "      <td>Public Bus</td>\n",
       "      <td>Subway</td>\n",
       "      <td>Walk</td>\n",
       "    </tr>\n",
       "    <tr>\n",
       "      <th>1</th>\n",
       "      <td>I92102201</td>\n",
       "      <td>3301</td>\n",
       "      <td>VERBAL DISPUTE</td>\n",
       "      <td>VERBAL DISPUTE</td>\n",
       "      <td>E13</td>\n",
       "      <td>Jamaica Plain</td>\n",
       "      <td>583</td>\n",
       "      <td>2019-12-20 03:08:00</td>\n",
       "      <td>2019-12-20</td>\n",
       "      <td>03:08:00</td>\n",
       "      <td>...</td>\n",
       "      <td>Friday</td>\n",
       "      <td>3</td>\n",
       "      <td>(42.32512200, -71.10777900)</td>\n",
       "      <td>94556</td>\n",
       "      <td>7.0</td>\n",
       "      <td>66</td>\n",
       "      <td>Walk</td>\n",
       "      <td>Public Bus</td>\n",
       "      <td>Subway</td>\n",
       "      <td>Car</td>\n",
       "    </tr>\n",
       "    <tr>\n",
       "      <th>2</th>\n",
       "      <td>I92097173</td>\n",
       "      <td>3115</td>\n",
       "      <td>INVESTIGATE PERSON</td>\n",
       "      <td>INVESTIGATE PERSON</td>\n",
       "      <td>C11</td>\n",
       "      <td>Dorchester</td>\n",
       "      <td>355</td>\n",
       "      <td>2019-10-23 00:00:00</td>\n",
       "      <td>2019-10-23</td>\n",
       "      <td>00:00:00</td>\n",
       "      <td>...</td>\n",
       "      <td>Wednesday</td>\n",
       "      <td>0</td>\n",
       "      <td>(42.29755500, -71.05970900)</td>\n",
       "      <td>45158</td>\n",
       "      <td>5.5</td>\n",
       "      <td>60</td>\n",
       "      <td>Car</td>\n",
       "      <td>Public Bus</td>\n",
       "      <td>Subway</td>\n",
       "      <td>Walk</td>\n",
       "    </tr>\n",
       "    <tr>\n",
       "      <th>3</th>\n",
       "      <td>I92094519</td>\n",
       "      <td>3126</td>\n",
       "      <td>WARRANT ARREST - OUTSIDE OF BOSTON WARRANT</td>\n",
       "      <td>WARRANT ARREST - OUTSIDE OF BOSTON WARRANT</td>\n",
       "      <td>D14</td>\n",
       "      <td>Brighton</td>\n",
       "      <td>765</td>\n",
       "      <td>2019-11-22 07:50:00</td>\n",
       "      <td>2019-11-22</td>\n",
       "      <td>07:50:00</td>\n",
       "      <td>...</td>\n",
       "      <td>Friday</td>\n",
       "      <td>7</td>\n",
       "      <td>(42.35512000, -71.16267800)</td>\n",
       "      <td>35116</td>\n",
       "      <td>6.1</td>\n",
       "      <td>37</td>\n",
       "      <td>Walk</td>\n",
       "      <td>Public Bus</td>\n",
       "      <td>Subway</td>\n",
       "      <td>Car</td>\n",
       "    </tr>\n",
       "    <tr>\n",
       "      <th>4</th>\n",
       "      <td>I92089785</td>\n",
       "      <td>3005</td>\n",
       "      <td>SICK ASSIST</td>\n",
       "      <td>SICK ASSIST</td>\n",
       "      <td>E13</td>\n",
       "      <td>Jamaica Plain</td>\n",
       "      <td>574</td>\n",
       "      <td>2019-11-05 18:00:00</td>\n",
       "      <td>2019-11-05</td>\n",
       "      <td>18:00:00</td>\n",
       "      <td>...</td>\n",
       "      <td>Tuesday</td>\n",
       "      <td>18</td>\n",
       "      <td>(42.30971800, -71.10429400)</td>\n",
       "      <td>45158</td>\n",
       "      <td>5.5</td>\n",
       "      <td>60</td>\n",
       "      <td>Walk</td>\n",
       "      <td>Public Bus</td>\n",
       "      <td>Subway</td>\n",
       "      <td>Car</td>\n",
       "    </tr>\n",
       "  </tbody>\n",
       "</table>\n",
       "<p>5 rows × 21 columns</p>\n",
       "</div>"
      ],
      "text/plain": [
       "  INCIDENT_NUMBER  OFFENSE_CODE                          OFFENSE_CODE_GROUP  \\\n",
       "0       TESTTEST2           423                        ASSAULT - AGGRAVATED   \n",
       "1       I92102201          3301                              VERBAL DISPUTE   \n",
       "2       I92097173          3115                          INVESTIGATE PERSON   \n",
       "3       I92094519          3126  WARRANT ARREST - OUTSIDE OF BOSTON WARRANT   \n",
       "4       I92089785          3005                                 SICK ASSIST   \n",
       "\n",
       "                          OFFENSE_DESCRIPTION  DISTRICT  DISTRICT_NAME  \\\n",
       "0                        ASSAULT - AGGRAVATED  External      Lexington   \n",
       "1                              VERBAL DISPUTE       E13  Jamaica Plain   \n",
       "2                          INVESTIGATE PERSON       C11     Dorchester   \n",
       "3  WARRANT ARREST - OUTSIDE OF BOSTON WARRANT       D14       Brighton   \n",
       "4                                 SICK ASSIST       E13  Jamaica Plain   \n",
       "\n",
       "  REPORTING_AREA    OCCURRED_ON_DATE       Date      Time  ...  DAY_OF_WEEK  \\\n",
       "0                2019-10-16 00:00:00 2019-10-16  00:00:00  ...    Wednesday   \n",
       "1            583 2019-12-20 03:08:00 2019-12-20  03:08:00  ...       Friday   \n",
       "2            355 2019-10-23 00:00:00 2019-10-23  00:00:00  ...    Wednesday   \n",
       "3            765 2019-11-22 07:50:00 2019-11-22  07:50:00  ...       Friday   \n",
       "4            574 2019-11-05 18:00:00 2019-11-05  18:00:00  ...      Tuesday   \n",
       "\n",
       "  HOUR                     Location Population_in_District_Demographics  \\\n",
       "0    0     (0.00000000, 0.00000000)                               45158   \n",
       "1    3  (42.32512200, -71.10777900)                               94556   \n",
       "2    0  (42.29755500, -71.05970900)                               45158   \n",
       "3    7  (42.35512000, -71.16267800)                               35116   \n",
       "4   18  (42.30971800, -71.10429400)                               45158   \n",
       "\n",
       "   Unemployment_Rate_in_District  Average_rent_per_night  Transport _1  \\\n",
       "0                            5.5                      60           Car   \n",
       "1                            7.0                      66          Walk   \n",
       "2                            5.5                      60           Car   \n",
       "3                            6.1                      37          Walk   \n",
       "4                            5.5                      60          Walk   \n",
       "\n",
       "  Transport _2 Transport _3 Transport _4  \n",
       "0   Public Bus       Subway         Walk  \n",
       "1   Public Bus       Subway          Car  \n",
       "2   Public Bus       Subway         Walk  \n",
       "3   Public Bus       Subway          Car  \n",
       "4   Public Bus       Subway          Car  \n",
       "\n",
       "[5 rows x 21 columns]"
      ]
     },
     "execution_count": 21,
     "metadata": {},
     "output_type": "execute_result"
    }
   ],
   "source": [
    "#Dropping the columns with missing values\n",
    "missing_cols = ['SHOOTING','YEAR','UCR_PART','STREET','Lat','Long']\n",
    "\n",
    "df = df.drop(missing_cols, axis=1)\n",
    "\n",
    "df.head(5)"
   ]
  },
  {
   "cell_type": "code",
   "execution_count": 22,
   "metadata": {},
   "outputs": [
    {
     "data": {
      "text/plain": [
       "INCIDENT_NUMBER                        0\n",
       "OFFENSE_CODE                           0\n",
       "OFFENSE_CODE_GROUP                     0\n",
       "OFFENSE_DESCRIPTION                    0\n",
       "DISTRICT                               0\n",
       "DISTRICT_NAME                          0\n",
       "REPORTING_AREA                         0\n",
       "OCCURRED_ON_DATE                       0\n",
       "Date                                   0\n",
       "Time                                   0\n",
       "MONTH                                  0\n",
       "DAY_OF_WEEK                            0\n",
       "HOUR                                   0\n",
       "Location                               0\n",
       "Population_in_District_Demographics    0\n",
       "Unemployment_Rate_in_District          0\n",
       "Average_rent_per_night                 0\n",
       "Transport _1                           0\n",
       "Transport _2                           0\n",
       "Transport _3                           0\n",
       "Transport _4                           0\n",
       "dtype: int64"
      ]
     },
     "execution_count": 22,
     "metadata": {},
     "output_type": "execute_result"
    }
   ],
   "source": [
    "df.isnull().sum()"
   ]
  },
  {
   "cell_type": "code",
   "execution_count": 23,
   "metadata": {},
   "outputs": [
    {
     "data": {
      "text/html": [
       "<div>\n",
       "<style scoped>\n",
       "    .dataframe tbody tr th:only-of-type {\n",
       "        vertical-align: middle;\n",
       "    }\n",
       "\n",
       "    .dataframe tbody tr th {\n",
       "        vertical-align: top;\n",
       "    }\n",
       "\n",
       "    .dataframe thead th {\n",
       "        text-align: right;\n",
       "    }\n",
       "</style>\n",
       "<table border=\"1\" class=\"dataframe\">\n",
       "  <thead>\n",
       "    <tr style=\"text-align: right;\">\n",
       "      <th></th>\n",
       "      <th>OFFENSE_CODE</th>\n",
       "      <th>MONTH</th>\n",
       "      <th>HOUR</th>\n",
       "      <th>Population_in_District_Demographics</th>\n",
       "      <th>Unemployment_Rate_in_District</th>\n",
       "      <th>Average_rent_per_night</th>\n",
       "    </tr>\n",
       "  </thead>\n",
       "  <tbody>\n",
       "    <tr>\n",
       "      <th>count</th>\n",
       "      <td>477612.000000</td>\n",
       "      <td>477612.000000</td>\n",
       "      <td>477612.000000</td>\n",
       "      <td>477612.000000</td>\n",
       "      <td>477612.000000</td>\n",
       "      <td>477612.000000</td>\n",
       "    </tr>\n",
       "    <tr>\n",
       "      <th>mean</th>\n",
       "      <td>2332.732050</td>\n",
       "      <td>6.628868</td>\n",
       "      <td>13.093991</td>\n",
       "      <td>57734.539919</td>\n",
       "      <td>5.673234</td>\n",
       "      <td>58.980373</td>\n",
       "    </tr>\n",
       "    <tr>\n",
       "      <th>std</th>\n",
       "      <td>1182.247929</td>\n",
       "      <td>3.423139</td>\n",
       "      <td>6.324785</td>\n",
       "      <td>27521.096445</td>\n",
       "      <td>1.260159</td>\n",
       "      <td>10.929280</td>\n",
       "    </tr>\n",
       "    <tr>\n",
       "      <th>min</th>\n",
       "      <td>111.000000</td>\n",
       "      <td>1.000000</td>\n",
       "      <td>0.000000</td>\n",
       "      <td>17208.000000</td>\n",
       "      <td>2.800000</td>\n",
       "      <td>37.000000</td>\n",
       "    </tr>\n",
       "    <tr>\n",
       "      <th>25%</th>\n",
       "      <td>1102.000000</td>\n",
       "      <td>4.000000</td>\n",
       "      <td>9.000000</td>\n",
       "      <td>38206.000000</td>\n",
       "      <td>5.500000</td>\n",
       "      <td>60.000000</td>\n",
       "    </tr>\n",
       "    <tr>\n",
       "      <th>50%</th>\n",
       "      <td>3005.000000</td>\n",
       "      <td>7.000000</td>\n",
       "      <td>14.000000</td>\n",
       "      <td>43436.000000</td>\n",
       "      <td>6.100000</td>\n",
       "      <td>61.000000</td>\n",
       "    </tr>\n",
       "    <tr>\n",
       "      <th>75%</th>\n",
       "      <td>3201.000000</td>\n",
       "      <td>10.000000</td>\n",
       "      <td>18.000000</td>\n",
       "      <td>94556.000000</td>\n",
       "      <td>7.000000</td>\n",
       "      <td>66.000000</td>\n",
       "    </tr>\n",
       "    <tr>\n",
       "      <th>max</th>\n",
       "      <td>3831.000000</td>\n",
       "      <td>12.000000</td>\n",
       "      <td>23.000000</td>\n",
       "      <td>94556.000000</td>\n",
       "      <td>7.000000</td>\n",
       "      <td>72.000000</td>\n",
       "    </tr>\n",
       "  </tbody>\n",
       "</table>\n",
       "</div>"
      ],
      "text/plain": [
       "        OFFENSE_CODE          MONTH           HOUR  \\\n",
       "count  477612.000000  477612.000000  477612.000000   \n",
       "mean     2332.732050       6.628868      13.093991   \n",
       "std      1182.247929       3.423139       6.324785   \n",
       "min       111.000000       1.000000       0.000000   \n",
       "25%      1102.000000       4.000000       9.000000   \n",
       "50%      3005.000000       7.000000      14.000000   \n",
       "75%      3201.000000      10.000000      18.000000   \n",
       "max      3831.000000      12.000000      23.000000   \n",
       "\n",
       "       Population_in_District_Demographics  Unemployment_Rate_in_District  \\\n",
       "count                        477612.000000                  477612.000000   \n",
       "mean                          57734.539919                       5.673234   \n",
       "std                           27521.096445                       1.260159   \n",
       "min                           17208.000000                       2.800000   \n",
       "25%                           38206.000000                       5.500000   \n",
       "50%                           43436.000000                       6.100000   \n",
       "75%                           94556.000000                       7.000000   \n",
       "max                           94556.000000                       7.000000   \n",
       "\n",
       "       Average_rent_per_night  \n",
       "count           477612.000000  \n",
       "mean                58.980373  \n",
       "std                 10.929280  \n",
       "min                 37.000000  \n",
       "25%                 60.000000  \n",
       "50%                 61.000000  \n",
       "75%                 66.000000  \n",
       "max                 72.000000  "
      ]
     },
     "execution_count": 23,
     "metadata": {},
     "output_type": "execute_result"
    }
   ],
   "source": [
    "df.describe()"
   ]
  },
  {
   "cell_type": "code",
   "execution_count": 24,
   "metadata": {},
   "outputs": [],
   "source": [
    "corr=df.corr()"
   ]
  },
  {
   "cell_type": "code",
   "execution_count": 25,
   "metadata": {},
   "outputs": [
    {
     "data": {
      "image/png": "[encoded data removed]",
      "text/plain": [
       "<Figure size 432x288 with 2 Axes>"
      ]
     },
     "metadata": {
      "needs_background": "light"
     },
     "output_type": "display_data"
    }
   ],
   "source": [
    "map1=sb.heatmap(corr,annot=True,vmin=-1, vmax=1, center= 0, cmap= 'coolwarm', linewidths=3, linecolor='black')"
   ]
  },
  {
   "cell_type": "code",
   "execution_count": 26,
   "metadata": {},
   "outputs": [
    {
     "name": "stdout",
     "output_type": "stream",
     "text": [
      "AxesSubplot(0.125,0.125;0.775x0.755)\n"
     ]
    },
    {
     "data": {
      "image/png": "[encoded data removed]",
      "text/plain": [
       "<Figure size 432x288 with 1 Axes>"
      ]
     },
     "metadata": {
      "needs_background": "light"
     },
     "output_type": "display_data"
    }
   ],
   "source": [
    "#plotting the overall Unemployment Rate \n",
    "plot=df.Unemployment_Rate_in_District.value_counts().iloc[:10].sort_values().plot(kind= 'barh',color='Purple')\n",
    "\n",
    "print(plot)"
   ]
  },
  {
   "cell_type": "code",
   "execution_count": 27,
   "metadata": {},
   "outputs": [
    {
     "name": "stdout",
     "output_type": "stream",
     "text": [
      "               Unemployment_Rate_in_District Transport _1 Transport _4\n",
      "DISTRICT_NAME                                                         \n",
      "Brighton                                 6.1         Walk          Car\n",
      "Charlestown                              6.1         Walk          Car\n",
      "Dorchester                               5.5          Car         Walk\n",
      "Downtown                                 5.5          Car         Walk\n",
      "East Boston                              5.5          Car         Walk\n",
      "Hyde Park                                7.0         Walk          Car\n",
      "Jamaica Plain                            7.0         Walk          Car\n",
      "Lexington                                5.5          Car         Walk\n",
      "Mattapan                                 6.1         Walk          Car\n",
      "Roxbury                                  5.5          Car         Walk\n",
      "South Boston                             5.5          Car         Walk\n",
      "South End                                5.5          Car         Walk\n",
      "West Roxbury                             5.5          Car         Walk\n"
     ]
    }
   ],
   "source": [
    "#Comparing the mode of Transports with Unemployment rate\n",
    "districts=df.groupby('DISTRICT_NAME').first()\n",
    "print(districts.to_string(columns=['Unemployment_Rate_in_District', 'Transport _1','Transport _4']))\n",
    "#print(districts)"
   ]
  },
  {
   "cell_type": "code",
   "execution_count": 28,
   "metadata": {},
   "outputs": [
    {
     "name": "stdout",
     "output_type": "stream",
     "text": [
      "               Unemployment_Rate_in_District  Average_rent_per_night\n",
      "DISTRICT_NAME                                                       \n",
      "Brighton                                 6.1                      37\n",
      "Charlestown                              6.1                      37\n",
      "Dorchester                               5.5                      60\n",
      "Downtown                                 5.5                      60\n",
      "East Boston                              5.5                      72\n",
      "Hyde Park                                7.0                      66\n",
      "Jamaica Plain                            7.0                      66\n",
      "Lexington                                5.5                      60\n",
      "Mattapan                                 6.1                      37\n",
      "Roxbury                                  5.5                      72\n",
      "South Boston                             5.5                      60\n",
      "South End                                5.5                      60\n",
      "West Roxbury                             5.5                      72\n"
     ]
    }
   ],
   "source": [
    "#Comparing District's unemployment rate with Average rent\n",
    "districts=df.groupby('DISTRICT_NAME').first()\n",
    "print(districts.to_string(columns=['Unemployment_Rate_in_District', 'Average_rent_per_night']))"
   ]
  },
  {
   "cell_type": "code",
   "execution_count": 29,
   "metadata": {},
   "outputs": [],
   "source": [
    "#Creating dataframe for Jamaica Plain\n",
    "Jam=df[df.DISTRICT_NAME.str.contains(\"Jamaica Plain\")]"
   ]
  },
  {
   "cell_type": "code",
   "execution_count": 30,
   "metadata": {},
   "outputs": [
    {
     "data": {
      "text/html": [
       "<div>\n",
       "<style scoped>\n",
       "    .dataframe tbody tr th:only-of-type {\n",
       "        vertical-align: middle;\n",
       "    }\n",
       "\n",
       "    .dataframe tbody tr th {\n",
       "        vertical-align: top;\n",
       "    }\n",
       "\n",
       "    .dataframe thead th {\n",
       "        text-align: right;\n",
       "    }\n",
       "</style>\n",
       "<table border=\"1\" class=\"dataframe\">\n",
       "  <thead>\n",
       "    <tr style=\"text-align: right;\">\n",
       "      <th></th>\n",
       "      <th>INCIDENT_NUMBER</th>\n",
       "      <th>OFFENSE_CODE</th>\n",
       "      <th>OFFENSE_CODE_GROUP</th>\n",
       "      <th>OFFENSE_DESCRIPTION</th>\n",
       "      <th>DISTRICT</th>\n",
       "      <th>DISTRICT_NAME</th>\n",
       "      <th>REPORTING_AREA</th>\n",
       "      <th>OCCURRED_ON_DATE</th>\n",
       "      <th>Date</th>\n",
       "      <th>Time</th>\n",
       "      <th>...</th>\n",
       "      <th>DAY_OF_WEEK</th>\n",
       "      <th>HOUR</th>\n",
       "      <th>Location</th>\n",
       "      <th>Population_in_District_Demographics</th>\n",
       "      <th>Unemployment_Rate_in_District</th>\n",
       "      <th>Average_rent_per_night</th>\n",
       "      <th>Transport _1</th>\n",
       "      <th>Transport _2</th>\n",
       "      <th>Transport _3</th>\n",
       "      <th>Transport _4</th>\n",
       "    </tr>\n",
       "  </thead>\n",
       "  <tbody>\n",
       "    <tr>\n",
       "      <th>1</th>\n",
       "      <td>I92102201</td>\n",
       "      <td>3301</td>\n",
       "      <td>VERBAL DISPUTE</td>\n",
       "      <td>VERBAL DISPUTE</td>\n",
       "      <td>E13</td>\n",
       "      <td>Jamaica Plain</td>\n",
       "      <td>583</td>\n",
       "      <td>2019-12-20 03:08:00</td>\n",
       "      <td>2019-12-20</td>\n",
       "      <td>03:08:00</td>\n",
       "      <td>...</td>\n",
       "      <td>Friday</td>\n",
       "      <td>3</td>\n",
       "      <td>(42.32512200, -71.10777900)</td>\n",
       "      <td>94556</td>\n",
       "      <td>7.0</td>\n",
       "      <td>66</td>\n",
       "      <td>Walk</td>\n",
       "      <td>Public Bus</td>\n",
       "      <td>Subway</td>\n",
       "      <td>Car</td>\n",
       "    </tr>\n",
       "    <tr>\n",
       "      <th>4</th>\n",
       "      <td>I92089785</td>\n",
       "      <td>3005</td>\n",
       "      <td>SICK ASSIST</td>\n",
       "      <td>SICK ASSIST</td>\n",
       "      <td>E13</td>\n",
       "      <td>Jamaica Plain</td>\n",
       "      <td>574</td>\n",
       "      <td>2019-11-05 18:00:00</td>\n",
       "      <td>2019-11-05</td>\n",
       "      <td>18:00:00</td>\n",
       "      <td>...</td>\n",
       "      <td>Tuesday</td>\n",
       "      <td>18</td>\n",
       "      <td>(42.30971800, -71.10429400)</td>\n",
       "      <td>45158</td>\n",
       "      <td>5.5</td>\n",
       "      <td>60</td>\n",
       "      <td>Walk</td>\n",
       "      <td>Public Bus</td>\n",
       "      <td>Subway</td>\n",
       "      <td>Car</td>\n",
       "    </tr>\n",
       "    <tr>\n",
       "      <th>12</th>\n",
       "      <td>I20204246</td>\n",
       "      <td>1402</td>\n",
       "      <td>VANDALISM</td>\n",
       "      <td>VANDALISM</td>\n",
       "      <td>E13</td>\n",
       "      <td>Jamaica Plain</td>\n",
       "      <td>646</td>\n",
       "      <td>2020-01-16 16:30:00</td>\n",
       "      <td>2020-01-16</td>\n",
       "      <td>16:30:00</td>\n",
       "      <td>...</td>\n",
       "      <td>Thursday</td>\n",
       "      <td>16</td>\n",
       "      <td>(42.30976400, -71.11541200)</td>\n",
       "      <td>94556</td>\n",
       "      <td>7.0</td>\n",
       "      <td>66</td>\n",
       "      <td>Walk</td>\n",
       "      <td>Public Bus</td>\n",
       "      <td>Subway</td>\n",
       "      <td>Car</td>\n",
       "    </tr>\n",
       "    <tr>\n",
       "      <th>17</th>\n",
       "      <td>I20200718</td>\n",
       "      <td>3201</td>\n",
       "      <td>PROPERTY - LOST/ MISSING</td>\n",
       "      <td>PROPERTY - LOST/ MISSING</td>\n",
       "      <td>E13</td>\n",
       "      <td>Jamaica Plain</td>\n",
       "      <td>574</td>\n",
       "      <td>2020-01-25 12:00:00</td>\n",
       "      <td>2020-01-25</td>\n",
       "      <td>12:00:00</td>\n",
       "      <td>...</td>\n",
       "      <td>Saturday</td>\n",
       "      <td>12</td>\n",
       "      <td>(42.30971800, -71.10429400)</td>\n",
       "      <td>35116</td>\n",
       "      <td>6.1</td>\n",
       "      <td>37</td>\n",
       "      <td>Walk</td>\n",
       "      <td>Public Bus</td>\n",
       "      <td>Subway</td>\n",
       "      <td>Car</td>\n",
       "    </tr>\n",
       "    <tr>\n",
       "      <th>20</th>\n",
       "      <td>I19210875</td>\n",
       "      <td>3301</td>\n",
       "      <td>VERBAL DISPUTE</td>\n",
       "      <td>VERBAL DISPUTE</td>\n",
       "      <td>E13</td>\n",
       "      <td>Jamaica Plain</td>\n",
       "      <td>912</td>\n",
       "      <td>2019-12-30 22:04:00</td>\n",
       "      <td>2019-12-30</td>\n",
       "      <td>22:04:00</td>\n",
       "      <td>...</td>\n",
       "      <td>Monday</td>\n",
       "      <td>22</td>\n",
       "      <td>(42.32469400, -71.10087900)</td>\n",
       "      <td>43436</td>\n",
       "      <td>5.5</td>\n",
       "      <td>72</td>\n",
       "      <td>Walk</td>\n",
       "      <td>Public Bus</td>\n",
       "      <td>Subway</td>\n",
       "      <td>Car</td>\n",
       "    </tr>\n",
       "  </tbody>\n",
       "</table>\n",
       "<p>5 rows × 21 columns</p>\n",
       "</div>"
      ],
      "text/plain": [
       "   INCIDENT_NUMBER  OFFENSE_CODE        OFFENSE_CODE_GROUP  \\\n",
       "1        I92102201          3301            VERBAL DISPUTE   \n",
       "4        I92089785          3005               SICK ASSIST   \n",
       "12       I20204246          1402                 VANDALISM   \n",
       "17       I20200718          3201  PROPERTY - LOST/ MISSING   \n",
       "20       I19210875          3301            VERBAL DISPUTE   \n",
       "\n",
       "         OFFENSE_DESCRIPTION DISTRICT  DISTRICT_NAME REPORTING_AREA  \\\n",
       "1             VERBAL DISPUTE      E13  Jamaica Plain            583   \n",
       "4                SICK ASSIST      E13  Jamaica Plain            574   \n",
       "12                 VANDALISM      E13  Jamaica Plain            646   \n",
       "17  PROPERTY - LOST/ MISSING      E13  Jamaica Plain            574   \n",
       "20            VERBAL DISPUTE      E13  Jamaica Plain            912   \n",
       "\n",
       "      OCCURRED_ON_DATE       Date      Time  ...  DAY_OF_WEEK HOUR  \\\n",
       "1  2019-12-20 03:08:00 2019-12-20  03:08:00  ...       Friday    3   \n",
       "4  2019-11-05 18:00:00 2019-11-05  18:00:00  ...      Tuesday   18   \n",
       "12 2020-01-16 16:30:00 2020-01-16  16:30:00  ...     Thursday   16   \n",
       "17 2020-01-25 12:00:00 2020-01-25  12:00:00  ...     Saturday   12   \n",
       "20 2019-12-30 22:04:00 2019-12-30  22:04:00  ...       Monday   22   \n",
       "\n",
       "                       Location Population_in_District_Demographics  \\\n",
       "1   (42.32512200, -71.10777900)                               94556   \n",
       "4   (42.30971800, -71.10429400)                               45158   \n",
       "12  (42.30976400, -71.11541200)                               94556   \n",
       "17  (42.30971800, -71.10429400)                               35116   \n",
       "20  (42.32469400, -71.10087900)                               43436   \n",
       "\n",
       "    Unemployment_Rate_in_District  Average_rent_per_night  Transport _1  \\\n",
       "1                             7.0                      66          Walk   \n",
       "4                             5.5                      60          Walk   \n",
       "12                            7.0                      66          Walk   \n",
       "17                            6.1                      37          Walk   \n",
       "20                            5.5                      72          Walk   \n",
       "\n",
       "   Transport _2 Transport _3 Transport _4  \n",
       "1    Public Bus       Subway          Car  \n",
       "4    Public Bus       Subway          Car  \n",
       "12   Public Bus       Subway          Car  \n",
       "17   Public Bus       Subway          Car  \n",
       "20   Public Bus       Subway          Car  \n",
       "\n",
       "[5 rows x 21 columns]"
      ]
     },
     "execution_count": 30,
     "metadata": {},
     "output_type": "execute_result"
    }
   ],
   "source": [
    "Jam.head()"
   ]
  },
  {
   "cell_type": "code",
   "execution_count": 31,
   "metadata": {},
   "outputs": [
    {
     "data": {
      "text/plain": [
       "<matplotlib.axes._subplots.AxesSubplot at 0x7fe1ff6534a8>"
      ]
     },
     "execution_count": 31,
     "metadata": {},
     "output_type": "execute_result"
    },
    {
     "data": {
      "image/png": "[encoded data removed]",
      "text/plain": [
       "<Figure size 432x288 with 1 Axes>"
      ]
     },
     "metadata": {
      "needs_background": "light"
     },
     "output_type": "display_data"
    }
   ],
   "source": [
    "#plotting the trend of Jamaica Plain using Months\n",
    "Jam.groupby(\"MONTH\").size().plot(kind=\"line\",color=\"maroon\")"
   ]
  },
  {
   "cell_type": "code",
   "execution_count": 32,
   "metadata": {},
   "outputs": [
    {
     "data": {
      "text/plain": [
       "<matplotlib.axes._subplots.AxesSubplot at 0x7fe1fec9b4e0>"
      ]
     },
     "execution_count": 32,
     "metadata": {},
     "output_type": "execute_result"
    },
    {
     "data": {
      "image/png": "[encoded data removed]",
      "text/plain": [
       "<Figure size 432x288 with 1 Axes>"
      ]
     },
     "metadata": {
      "needs_background": "light"
     },
     "output_type": "display_data"
    }
   ],
   "source": [
    "#plotting the trend of Jamaica Plain on Hour basis\n",
    "Jam.groupby(\"HOUR\").size().plot(kind=\"area\",color=\"maroon\")"
   ]
  },
  {
   "cell_type": "code",
   "execution_count": 33,
   "metadata": {},
   "outputs": [
    {
     "data": {
      "text/plain": [
       "<matplotlib.axes._subplots.AxesSubplot at 0x7fe1fbc9da58>"
      ]
     },
     "execution_count": 33,
     "metadata": {},
     "output_type": "execute_result"
    },
    {
     "data": {
      "image/png": "[encoded data removed]",
      "text/plain": [
       "<Figure size 432x288 with 1 Axes>"
      ]
     },
     "metadata": {
      "needs_background": "light"
     },
     "output_type": "display_data"
    }
   ],
   "source": [
    "#grouping Jamaica Plain with crimes based on unemploement rate\n",
    "Jam.groupby(\"Unemployment_Rate_in_District\").size().plot(kind=\"bar\",color=\"maroon\")"
   ]
  },
  {
   "cell_type": "code",
   "execution_count": 34,
   "metadata": {},
   "outputs": [
    {
     "data": {
      "text/plain": [
       "<matplotlib.axes._subplots.AxesSubplot at 0x7fe1fddb0390>"
      ]
     },
     "execution_count": 34,
     "metadata": {},
     "output_type": "execute_result"
    },
    {
     "data": {
      "image/png": "[encoded data removed]",
      "text/plain": [
       "<Figure size 432x288 with 1 Axes>"
      ]
     },
     "metadata": {
      "needs_background": "light"
     },
     "output_type": "display_data"
    }
   ],
   "source": [
    "#grouping Jamaica Plain with crimes based on Average rent per night\n",
    "Jam.groupby(\"Average_rent_per_night\").size().plot(kind=\"barh\",color=\"maroon\")"
   ]
  },
  {
   "cell_type": "code",
   "execution_count": 35,
   "metadata": {},
   "outputs": [
    {
     "data": {
      "text/html": [
       "<div>\n",
       "<style scoped>\n",
       "    .dataframe tbody tr th:only-of-type {\n",
       "        vertical-align: middle;\n",
       "    }\n",
       "\n",
       "    .dataframe tbody tr th {\n",
       "        vertical-align: top;\n",
       "    }\n",
       "\n",
       "    .dataframe thead th {\n",
       "        text-align: right;\n",
       "    }\n",
       "</style>\n",
       "<table border=\"1\" class=\"dataframe\">\n",
       "  <thead>\n",
       "    <tr style=\"text-align: right;\">\n",
       "      <th></th>\n",
       "      <th>INCIDENT_NUMBER</th>\n",
       "      <th>OFFENSE_CODE</th>\n",
       "      <th>OFFENSE_CODE_GROUP</th>\n",
       "      <th>OFFENSE_DESCRIPTION</th>\n",
       "      <th>DISTRICT</th>\n",
       "      <th>DISTRICT_NAME</th>\n",
       "      <th>REPORTING_AREA</th>\n",
       "      <th>OCCURRED_ON_DATE</th>\n",
       "      <th>Date</th>\n",
       "      <th>Time</th>\n",
       "      <th>...</th>\n",
       "      <th>DAY_OF_WEEK</th>\n",
       "      <th>HOUR</th>\n",
       "      <th>Location</th>\n",
       "      <th>Population_in_District_Demographics</th>\n",
       "      <th>Unemployment_Rate_in_District</th>\n",
       "      <th>Average_rent_per_night</th>\n",
       "      <th>Transport _1</th>\n",
       "      <th>Transport _2</th>\n",
       "      <th>Transport _3</th>\n",
       "      <th>Transport _4</th>\n",
       "    </tr>\n",
       "  </thead>\n",
       "  <tbody>\n",
       "    <tr>\n",
       "      <th>19</th>\n",
       "      <td>I20000994</td>\n",
       "      <td>3005</td>\n",
       "      <td>SICK ASSIST</td>\n",
       "      <td>SICK ASSIST</td>\n",
       "      <td>A7</td>\n",
       "      <td>East Boston</td>\n",
       "      <td>28</td>\n",
       "      <td>2020-01-04 17:50:00</td>\n",
       "      <td>2020-01-04</td>\n",
       "      <td>17:50:00</td>\n",
       "      <td>...</td>\n",
       "      <td>Saturday</td>\n",
       "      <td>17</td>\n",
       "      <td>(42.37100500, -71.03897600)</td>\n",
       "      <td>43436</td>\n",
       "      <td>5.5</td>\n",
       "      <td>72</td>\n",
       "      <td>Car</td>\n",
       "      <td>Public Bus</td>\n",
       "      <td>Subway</td>\n",
       "      <td>Walk</td>\n",
       "    </tr>\n",
       "    <tr>\n",
       "      <th>34</th>\n",
       "      <td>I192078640</td>\n",
       "      <td>3115</td>\n",
       "      <td>Investigate Person</td>\n",
       "      <td>INVESTIGATE PERSON</td>\n",
       "      <td>A7</td>\n",
       "      <td>East Boston</td>\n",
       "      <td>28</td>\n",
       "      <td>2019-09-29 01:30:00</td>\n",
       "      <td>2019-09-29</td>\n",
       "      <td>01:30:00</td>\n",
       "      <td>...</td>\n",
       "      <td>Sunday</td>\n",
       "      <td>1</td>\n",
       "      <td>(42.37339168, -71.03647779)</td>\n",
       "      <td>43436</td>\n",
       "      <td>5.5</td>\n",
       "      <td>72</td>\n",
       "      <td>Car</td>\n",
       "      <td>Public Bus</td>\n",
       "      <td>Subway</td>\n",
       "      <td>Walk</td>\n",
       "    </tr>\n",
       "    <tr>\n",
       "      <th>48</th>\n",
       "      <td>I192078615</td>\n",
       "      <td>3803</td>\n",
       "      <td>Motor Vehicle Accident Response</td>\n",
       "      <td>M/V ACCIDENT - PERSONAL INJURY</td>\n",
       "      <td>A7</td>\n",
       "      <td>East Boston</td>\n",
       "      <td>25</td>\n",
       "      <td>2019-09-29 02:25:00</td>\n",
       "      <td>2019-09-29</td>\n",
       "      <td>02:25:00</td>\n",
       "      <td>...</td>\n",
       "      <td>Sunday</td>\n",
       "      <td>2</td>\n",
       "      <td>(42.38258915, -71.03341969)</td>\n",
       "      <td>94556</td>\n",
       "      <td>6.1</td>\n",
       "      <td>53</td>\n",
       "      <td>Car</td>\n",
       "      <td>Public Bus</td>\n",
       "      <td>Subway</td>\n",
       "      <td>Walk</td>\n",
       "    </tr>\n",
       "    <tr>\n",
       "      <th>49</th>\n",
       "      <td>I192078613</td>\n",
       "      <td>423</td>\n",
       "      <td>Aggravated Assault</td>\n",
       "      <td>ASSAULT - AGGRAVATED</td>\n",
       "      <td>A7</td>\n",
       "      <td>East Boston</td>\n",
       "      <td>17</td>\n",
       "      <td>2019-09-29 02:30:00</td>\n",
       "      <td>2019-09-29</td>\n",
       "      <td>02:30:00</td>\n",
       "      <td>...</td>\n",
       "      <td>Sunday</td>\n",
       "      <td>2</td>\n",
       "      <td>(42.37912370, -71.02808210)</td>\n",
       "      <td>94556</td>\n",
       "      <td>6.1</td>\n",
       "      <td>53</td>\n",
       "      <td>Car</td>\n",
       "      <td>Public Bus</td>\n",
       "      <td>Subway</td>\n",
       "      <td>Walk</td>\n",
       "    </tr>\n",
       "    <tr>\n",
       "      <th>50</th>\n",
       "      <td>I192078613</td>\n",
       "      <td>802</td>\n",
       "      <td>Simple Assault</td>\n",
       "      <td>ASSAULT SIMPLE - BATTERY</td>\n",
       "      <td>A7</td>\n",
       "      <td>East Boston</td>\n",
       "      <td>17</td>\n",
       "      <td>2019-09-29 02:30:00</td>\n",
       "      <td>2019-09-29</td>\n",
       "      <td>02:30:00</td>\n",
       "      <td>...</td>\n",
       "      <td>Sunday</td>\n",
       "      <td>2</td>\n",
       "      <td>(42.37912370, -71.02808210)</td>\n",
       "      <td>38206</td>\n",
       "      <td>4.0</td>\n",
       "      <td>61</td>\n",
       "      <td>Car</td>\n",
       "      <td>Public Bus</td>\n",
       "      <td>Subway</td>\n",
       "      <td>Walk</td>\n",
       "    </tr>\n",
       "  </tbody>\n",
       "</table>\n",
       "<p>5 rows × 21 columns</p>\n",
       "</div>"
      ],
      "text/plain": [
       "   INCIDENT_NUMBER  OFFENSE_CODE               OFFENSE_CODE_GROUP  \\\n",
       "19       I20000994          3005                      SICK ASSIST   \n",
       "34      I192078640          3115               Investigate Person   \n",
       "48      I192078615          3803  Motor Vehicle Accident Response   \n",
       "49      I192078613           423               Aggravated Assault   \n",
       "50      I192078613           802                   Simple Assault   \n",
       "\n",
       "               OFFENSE_DESCRIPTION DISTRICT DISTRICT_NAME REPORTING_AREA  \\\n",
       "19                     SICK ASSIST       A7   East Boston             28   \n",
       "34              INVESTIGATE PERSON       A7   East Boston             28   \n",
       "48  M/V ACCIDENT - PERSONAL INJURY       A7   East Boston             25   \n",
       "49            ASSAULT - AGGRAVATED       A7   East Boston             17   \n",
       "50        ASSAULT SIMPLE - BATTERY       A7   East Boston             17   \n",
       "\n",
       "      OCCURRED_ON_DATE       Date      Time  ...  DAY_OF_WEEK HOUR  \\\n",
       "19 2020-01-04 17:50:00 2020-01-04  17:50:00  ...     Saturday   17   \n",
       "34 2019-09-29 01:30:00 2019-09-29  01:30:00  ...       Sunday    1   \n",
       "48 2019-09-29 02:25:00 2019-09-29  02:25:00  ...       Sunday    2   \n",
       "49 2019-09-29 02:30:00 2019-09-29  02:30:00  ...       Sunday    2   \n",
       "50 2019-09-29 02:30:00 2019-09-29  02:30:00  ...       Sunday    2   \n",
       "\n",
       "                       Location Population_in_District_Demographics  \\\n",
       "19  (42.37100500, -71.03897600)                               43436   \n",
       "34  (42.37339168, -71.03647779)                               43436   \n",
       "48  (42.38258915, -71.03341969)                               94556   \n",
       "49  (42.37912370, -71.02808210)                               94556   \n",
       "50  (42.37912370, -71.02808210)                               38206   \n",
       "\n",
       "    Unemployment_Rate_in_District  Average_rent_per_night  Transport _1  \\\n",
       "19                            5.5                      72           Car   \n",
       "34                            5.5                      72           Car   \n",
       "48                            6.1                      53           Car   \n",
       "49                            6.1                      53           Car   \n",
       "50                            4.0                      61           Car   \n",
       "\n",
       "   Transport _2 Transport _3 Transport _4  \n",
       "19   Public Bus       Subway         Walk  \n",
       "34   Public Bus       Subway         Walk  \n",
       "48   Public Bus       Subway         Walk  \n",
       "49   Public Bus       Subway         Walk  \n",
       "50   Public Bus       Subway         Walk  \n",
       "\n",
       "[5 rows x 21 columns]"
      ]
     },
     "execution_count": 35,
     "metadata": {},
     "output_type": "execute_result"
    }
   ],
   "source": [
    "# Creating a dataframe for East Boston \n",
    "east=df[df.DISTRICT_NAME.str.contains(\"East Boston\")]\n",
    "east.head()"
   ]
  },
  {
   "cell_type": "code",
   "execution_count": 36,
   "metadata": {},
   "outputs": [
    {
     "data": {
      "text/plain": [
       "<matplotlib.axes._subplots.AxesSubplot at 0x7fe1ff9f0d30>"
      ]
     },
     "execution_count": 36,
     "metadata": {},
     "output_type": "execute_result"
    },
    {
     "data": {
      "image/png": "[encoded data removed]",
      "text/plain": [
       "<Figure size 432x288 with 1 Axes>"
      ]
     },
     "metadata": {
      "needs_background": "light"
     },
     "output_type": "display_data"
    }
   ],
   "source": [
    "#plotting the trend of  East Boston using Months\n",
    "east.groupby(\"MONTH\").size().plot(kind=\"line\",color=\"orange\")"
   ]
  },
  {
   "cell_type": "code",
   "execution_count": 37,
   "metadata": {},
   "outputs": [
    {
     "data": {
      "text/plain": [
       "<matplotlib.axes._subplots.AxesSubplot at 0x7fe226faa390>"
      ]
     },
     "execution_count": 37,
     "metadata": {},
     "output_type": "execute_result"
    },
    {
     "data": {
      "image/png": "[encoded data removed]",
      "text/plain": [
       "<Figure size 432x288 with 1 Axes>"
      ]
     },
     "metadata": {
      "needs_background": "light"
     },
     "output_type": "display_data"
    }
   ],
   "source": [
    "#plotting the trend of  East Boston on Hour basis\n",
    "east.groupby(\"HOUR\").size().plot(kind=\"area\",color=\"orange\")"
   ]
  },
  {
   "cell_type": "code",
   "execution_count": 38,
   "metadata": {},
   "outputs": [
    {
     "data": {
      "text/plain": [
       "<matplotlib.axes._subplots.AxesSubplot at 0x7fe227518550>"
      ]
     },
     "execution_count": 38,
     "metadata": {},
     "output_type": "execute_result"
    },
    {
     "data": {
      "image/png": "[encoded data removed]",
      "text/plain": [
       "<Figure size 432x288 with 1 Axes>"
      ]
     },
     "metadata": {
      "needs_background": "light"
     },
     "output_type": "display_data"
    }
   ],
   "source": [
    "#grouping  East Boston with crimes based on unemployment rate\n",
    "east.groupby(\"Unemployment_Rate_in_District\").size().plot(kind=\"bar\",color=\"orange\")"
   ]
  },
  {
   "cell_type": "code",
   "execution_count": 39,
   "metadata": {},
   "outputs": [
    {
     "data": {
      "text/plain": [
       "<matplotlib.axes._subplots.AxesSubplot at 0x7fe227d13da0>"
      ]
     },
     "execution_count": 39,
     "metadata": {},
     "output_type": "execute_result"
    },
    {
     "data": {
      "image/png": "[encoded data removed]",
      "text/plain": [
       "<Figure size 432x288 with 1 Axes>"
      ]
     },
     "metadata": {
      "needs_background": "light"
     },
     "output_type": "display_data"
    }
   ],
   "source": [
    "#grouping  East Boston with crimes based on Average rent \n",
    "east.groupby(\"Average_rent_per_night\").size().plot(kind=\"barh\",color=\"orange\")"
   ]
  },
  {
   "cell_type": "code",
   "execution_count": 563,
   "metadata": {},
   "outputs": [
    {
     "data": {
      "text/html": [
       "<div>\n",
       "<style scoped>\n",
       "    .dataframe tbody tr th:only-of-type {\n",
       "        vertical-align: middle;\n",
       "    }\n",
       "\n",
       "    .dataframe tbody tr th {\n",
       "        vertical-align: top;\n",
       "    }\n",
       "\n",
       "    .dataframe thead th {\n",
       "        text-align: right;\n",
       "    }\n",
       "</style>\n",
       "<table border=\"1\" class=\"dataframe\">\n",
       "  <thead>\n",
       "    <tr style=\"text-align: right;\">\n",
       "      <th></th>\n",
       "      <th>INCIDENT_NUMBER</th>\n",
       "      <th>OFFENSE_CODE</th>\n",
       "      <th>OFFENSE_CODE_GROUP</th>\n",
       "      <th>OFFENSE_DESCRIPTION</th>\n",
       "      <th>DISTRICT</th>\n",
       "      <th>DISTRICT_NAME</th>\n",
       "      <th>REPORTING_AREA</th>\n",
       "      <th>OCCURRED_ON_DATE</th>\n",
       "      <th>Date</th>\n",
       "      <th>Time</th>\n",
       "      <th>...</th>\n",
       "      <th>DAY_OF_WEEK</th>\n",
       "      <th>HOUR</th>\n",
       "      <th>Location</th>\n",
       "      <th>Population_in_District_Demographics</th>\n",
       "      <th>Unemployment_Rate_in_District</th>\n",
       "      <th>Average_rent_per_night</th>\n",
       "      <th>Transport _1</th>\n",
       "      <th>Transport _2</th>\n",
       "      <th>Transport _3</th>\n",
       "      <th>Transport _4</th>\n",
       "    </tr>\n",
       "  </thead>\n",
       "  <tbody>\n",
       "    <tr>\n",
       "      <th>8</th>\n",
       "      <td>I20207994</td>\n",
       "      <td>3207</td>\n",
       "      <td>PROPERTY - FOUND</td>\n",
       "      <td>PROPERTY - FOUND</td>\n",
       "      <td>A15</td>\n",
       "      <td>Charlestown</td>\n",
       "      <td>60</td>\n",
       "      <td>2020-04-19 13:30:00</td>\n",
       "      <td>2020-04-19</td>\n",
       "      <td>13:30:00</td>\n",
       "      <td>...</td>\n",
       "      <td>Sunday</td>\n",
       "      <td>13</td>\n",
       "      <td>(42.37380000, -71.06290300)</td>\n",
       "      <td>35116</td>\n",
       "      <td>6.1</td>\n",
       "      <td>37</td>\n",
       "      <td>Walk</td>\n",
       "      <td>Public Bus</td>\n",
       "      <td>Subway</td>\n",
       "      <td>Car</td>\n",
       "    </tr>\n",
       "    <tr>\n",
       "      <th>13</th>\n",
       "      <td>I20203469</td>\n",
       "      <td>3410</td>\n",
       "      <td>TOWED MOTOR VEHICLE</td>\n",
       "      <td>TOWED MOTOR VEHICLE</td>\n",
       "      <td>A15</td>\n",
       "      <td>Charlestown</td>\n",
       "      <td>41</td>\n",
       "      <td>2020-03-28 00:00:00</td>\n",
       "      <td>2020-03-28</td>\n",
       "      <td>00:00:00</td>\n",
       "      <td>...</td>\n",
       "      <td>Saturday</td>\n",
       "      <td>0</td>\n",
       "      <td>(42.37596200, -71.05747200)</td>\n",
       "      <td>38206</td>\n",
       "      <td>4.0</td>\n",
       "      <td>61</td>\n",
       "      <td>Walk</td>\n",
       "      <td>Public Bus</td>\n",
       "      <td>Subway</td>\n",
       "      <td>Car</td>\n",
       "    </tr>\n",
       "    <tr>\n",
       "      <th>28</th>\n",
       "      <td>I192079582</td>\n",
       "      <td>727</td>\n",
       "      <td>Auto Theft</td>\n",
       "      <td>AUTO THEFT - LEASED/RENTED VEHICLE</td>\n",
       "      <td>A15</td>\n",
       "      <td>Charlestown</td>\n",
       "      <td>47</td>\n",
       "      <td>2019-10-02 08:08:00</td>\n",
       "      <td>2019-10-02</td>\n",
       "      <td>08:08:00</td>\n",
       "      <td>...</td>\n",
       "      <td>Wednesday</td>\n",
       "      <td>8</td>\n",
       "      <td>(42.38184582, -71.06655134)</td>\n",
       "      <td>35116</td>\n",
       "      <td>6.1</td>\n",
       "      <td>37</td>\n",
       "      <td>Walk</td>\n",
       "      <td>Public Bus</td>\n",
       "      <td>Subway</td>\n",
       "      <td>Car</td>\n",
       "    </tr>\n",
       "    <tr>\n",
       "      <th>208</th>\n",
       "      <td>I192078436</td>\n",
       "      <td>3831</td>\n",
       "      <td>Motor Vehicle Accident Response</td>\n",
       "      <td>M/V - LEAVING SCENE - PROPERTY DAMAGE</td>\n",
       "      <td>A15</td>\n",
       "      <td>Charlestown</td>\n",
       "      <td>53</td>\n",
       "      <td>2019-09-26 23:00:00</td>\n",
       "      <td>2019-09-26</td>\n",
       "      <td>23:00:00</td>\n",
       "      <td>...</td>\n",
       "      <td>Thursday</td>\n",
       "      <td>23</td>\n",
       "      <td>(42.38120826, -71.06914345)</td>\n",
       "      <td>38206</td>\n",
       "      <td>4.0</td>\n",
       "      <td>61</td>\n",
       "      <td>Walk</td>\n",
       "      <td>Public Bus</td>\n",
       "      <td>Subway</td>\n",
       "      <td>Car</td>\n",
       "    </tr>\n",
       "    <tr>\n",
       "      <th>251</th>\n",
       "      <td>I192078381</td>\n",
       "      <td>619</td>\n",
       "      <td>Larceny</td>\n",
       "      <td>LARCENY ALL OTHERS</td>\n",
       "      <td>A15</td>\n",
       "      <td>Charlestown</td>\n",
       "      <td>40</td>\n",
       "      <td>2019-09-28 10:54:00</td>\n",
       "      <td>2019-09-28</td>\n",
       "      <td>10:54:00</td>\n",
       "      <td>...</td>\n",
       "      <td>Saturday</td>\n",
       "      <td>10</td>\n",
       "      <td>(42.37439512, -71.05803760)</td>\n",
       "      <td>45158</td>\n",
       "      <td>5.5</td>\n",
       "      <td>37</td>\n",
       "      <td>Walk</td>\n",
       "      <td>Public Bus</td>\n",
       "      <td>Subway</td>\n",
       "      <td>Car</td>\n",
       "    </tr>\n",
       "  </tbody>\n",
       "</table>\n",
       "<p>5 rows × 21 columns</p>\n",
       "</div>"
      ],
      "text/plain": [
       "    INCIDENT_NUMBER  OFFENSE_CODE               OFFENSE_CODE_GROUP  \\\n",
       "8         I20207994          3207                 PROPERTY - FOUND   \n",
       "13        I20203469          3410              TOWED MOTOR VEHICLE   \n",
       "28       I192079582           727                       Auto Theft   \n",
       "208      I192078436          3831  Motor Vehicle Accident Response   \n",
       "251      I192078381           619                          Larceny   \n",
       "\n",
       "                       OFFENSE_DESCRIPTION DISTRICT DISTRICT_NAME  \\\n",
       "8                         PROPERTY - FOUND      A15   Charlestown   \n",
       "13                     TOWED MOTOR VEHICLE      A15   Charlestown   \n",
       "28      AUTO THEFT - LEASED/RENTED VEHICLE      A15   Charlestown   \n",
       "208  M/V - LEAVING SCENE - PROPERTY DAMAGE      A15   Charlestown   \n",
       "251                     LARCENY ALL OTHERS      A15   Charlestown   \n",
       "\n",
       "    REPORTING_AREA    OCCURRED_ON_DATE       Date      Time  ...  DAY_OF_WEEK  \\\n",
       "8               60 2020-04-19 13:30:00 2020-04-19  13:30:00  ...       Sunday   \n",
       "13              41 2020-03-28 00:00:00 2020-03-28  00:00:00  ...     Saturday   \n",
       "28              47 2019-10-02 08:08:00 2019-10-02  08:08:00  ...    Wednesday   \n",
       "208             53 2019-09-26 23:00:00 2019-09-26  23:00:00  ...     Thursday   \n",
       "251             40 2019-09-28 10:54:00 2019-09-28  10:54:00  ...     Saturday   \n",
       "\n",
       "    HOUR                     Location Population_in_District_Demographics  \\\n",
       "8     13  (42.37380000, -71.06290300)                               35116   \n",
       "13     0  (42.37596200, -71.05747200)                               38206   \n",
       "28     8  (42.38184582, -71.06655134)                               35116   \n",
       "208   23  (42.38120826, -71.06914345)                               38206   \n",
       "251   10  (42.37439512, -71.05803760)                               45158   \n",
       "\n",
       "     Unemployment_Rate_in_District  Average_rent_per_night  Transport _1  \\\n",
       "8                              6.1                      37          Walk   \n",
       "13                             4.0                      61          Walk   \n",
       "28                             6.1                      37          Walk   \n",
       "208                            4.0                      61          Walk   \n",
       "251                            5.5                      37          Walk   \n",
       "\n",
       "    Transport _2 Transport _3 Transport _4  \n",
       "8     Public Bus       Subway          Car  \n",
       "13    Public Bus       Subway          Car  \n",
       "28    Public Bus       Subway          Car  \n",
       "208   Public Bus       Subway          Car  \n",
       "251   Public Bus       Subway          Car  \n",
       "\n",
       "[5 rows x 21 columns]"
      ]
     },
     "execution_count": 563,
     "metadata": {},
     "output_type": "execute_result"
    }
   ],
   "source": [
    "#dataframe for Charlestown\n",
    "char=df[df.DISTRICT_NAME.str.contains(\"Charlestown\")]\n",
    "char.head()"
   ]
  },
  {
   "cell_type": "code",
   "execution_count": 564,
   "metadata": {},
   "outputs": [
    {
     "data": {
      "text/plain": [
       "<matplotlib.axes._subplots.AxesSubplot at 0x7fd6891cd518>"
      ]
     },
     "execution_count": 564,
     "metadata": {},
     "output_type": "execute_result"
    },
    {
     "data": {
      "image/png": "[encoded data removed]",
      "text/plain": [
       "<Figure size 432x288 with 1 Axes>"
      ]
     },
     "metadata": {
      "needs_background": "light"
     },
     "output_type": "display_data"
    }
   ],
   "source": [
    "#plotting the trend of Charlestown using Hour\n",
    "char.groupby(\"HOUR\").size().plot(kind=\"area\",color=\"green\")"
   ]
  },
  {
   "cell_type": "code",
   "execution_count": 565,
   "metadata": {},
   "outputs": [
    {
     "data": {
      "text/plain": [
       "<matplotlib.axes._subplots.AxesSubplot at 0x7fd6863b7e48>"
      ]
     },
     "execution_count": 565,
     "metadata": {},
     "output_type": "execute_result"
    },
    {
     "data": {
      "image/png": "[encoded data removed]",
      "text/plain": [
       "<Figure size 432x288 with 1 Axes>"
      ]
     },
     "metadata": {
      "needs_background": "light"
     },
     "output_type": "display_data"
    }
   ],
   "source": [
    "#plotting the trend of Charlestown using Months\n",
    "char.groupby(\"MONTH\").size().plot(kind=\"line\",color=\"green\")"
   ]
  },
  {
   "cell_type": "code",
   "execution_count": 566,
   "metadata": {},
   "outputs": [
    {
     "data": {
      "text/plain": [
       "<matplotlib.axes._subplots.AxesSubplot at 0x7fd7c4476588>"
      ]
     },
     "execution_count": 566,
     "metadata": {},
     "output_type": "execute_result"
    },
    {
     "data": {
      "image/png": "[encoded data removed]",
      "text/plain": [
       "<Figure size 432x288 with 1 Axes>"
      ]
     },
     "metadata": {
      "needs_background": "light"
     },
     "output_type": "display_data"
    }
   ],
   "source": [
    "#plotting the trend of Charlestown using Unemployment rate\n",
    "char.groupby(\"Unemployment_Rate_in_District\").size().plot(kind=\"bar\",color=\"green\")"
   ]
  },
  {
   "cell_type": "code",
   "execution_count": 567,
   "metadata": {},
   "outputs": [
    {
     "data": {
      "text/plain": [
       "<matplotlib.axes._subplots.AxesSubplot at 0x7fd7c4dae1d0>"
      ]
     },
     "execution_count": 567,
     "metadata": {},
     "output_type": "execute_result"
    },
    {
     "data": {
      "image/png": "[encoded data removed]",
      "text/plain": [
       "<Figure size 432x288 with 1 Axes>"
      ]
     },
     "metadata": {
      "needs_background": "light"
     },
     "output_type": "display_data"
    }
   ],
   "source": [
    "#plotting the trend of Charlestown using Average rent\n",
    "char.groupby(\"Average_rent_per_night\").size().plot(kind=\"barh\",color=\"green\")"
   ]
  },
  {
   "cell_type": "code",
   "execution_count": 1,
   "metadata": {},
   "outputs": [
    {
     "ename": "NameError",
     "evalue": "name 'df' is not defined",
     "output_type": "error",
     "traceback": [
      "\u001b[0;31m---------------------------------------------------------------------------\u001b[0m",
      "\u001b[0;31mNameError\u001b[0m                                 Traceback (most recent call last)",
      "\u001b[0;32m<ipython-input-1-7da110b725a5>\u001b[0m in \u001b[0;36m<module>\u001b[0;34m\u001b[0m\n\u001b[0;32m----> 1\u001b[0;31m \u001b[0mplot\u001b[0m\u001b[0;34m=\u001b[0m\u001b[0mdf\u001b[0m\u001b[0;34m.\u001b[0m\u001b[0mOFFENSE_CODE_GROUP\u001b[0m\u001b[0;34m.\u001b[0m\u001b[0mvalue_counts\u001b[0m\u001b[0;34m(\u001b[0m\u001b[0;34m)\u001b[0m\u001b[0;34m.\u001b[0m\u001b[0miloc\u001b[0m\u001b[0;34m[\u001b[0m\u001b[0;34m:\u001b[0m\u001b[0;36m10\u001b[0m\u001b[0;34m]\u001b[0m\u001b[0;34m.\u001b[0m\u001b[0msort_values\u001b[0m\u001b[0;34m(\u001b[0m\u001b[0;34m)\u001b[0m\u001b[0;34m.\u001b[0m\u001b[0mplot\u001b[0m\u001b[0;34m(\u001b[0m\u001b[0mkind\u001b[0m\u001b[0;34m=\u001b[0m \u001b[0;34m'bar'\u001b[0m\u001b[0;34m,\u001b[0m\u001b[0mcolor\u001b[0m\u001b[0;34m=\u001b[0m\u001b[0;34m'red'\u001b[0m\u001b[0;34m)\u001b[0m\u001b[0;34m\u001b[0m\u001b[0;34m\u001b[0m\u001b[0m\n\u001b[0m\u001b[1;32m      2\u001b[0m \u001b[0;34m\u001b[0m\u001b[0m\n\u001b[1;32m      3\u001b[0m \u001b[0mprint\u001b[0m\u001b[0;34m(\u001b[0m\u001b[0mplot\u001b[0m\u001b[0;34m)\u001b[0m\u001b[0;34m\u001b[0m\u001b[0;34m\u001b[0m\u001b[0m\n",
      "\u001b[0;31mNameError\u001b[0m: name 'df' is not defined"
     ]
    }
   ],
   "source": [
    "plot=df.OFFENSE_CODE_GROUP.value_counts().iloc[:10].sort_values().plot(kind= 'bar',color='red')\n",
    "\n",
    "print(plot)"
   ]
  },
  {
   "cell_type": "code",
   "execution_count": null,
   "metadata": {},
   "outputs": [],
   "source": []
  }
 ],
 "metadata": {
  "kernelspec": {
   "display_name": "Python 3",
   "language": "python",
   "name": "python3"
  },
  "language_info": {
   "codemirror_mode": {
    "name": "ipython",
    "version": 3
   },
   "file_extension": ".py",
   "mimetype": "text/x-python",
   "name": "python",
   "nbconvert_exporter": "python",
   "pygments_lexer": "ipython3",
   "version": "3.7.3"
  }
 },
 "nbformat": 4,
 "nbformat_minor": 2
}
